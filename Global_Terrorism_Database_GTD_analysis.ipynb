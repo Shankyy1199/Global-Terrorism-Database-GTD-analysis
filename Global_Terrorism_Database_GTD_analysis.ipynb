{
  "nbformat": 4,
  "nbformat_minor": 0,
  "metadata": {
    "colab": {
      "private_outputs": true,
      "provenance": [],
      "collapsed_sections": [
        "vncDsAP0Gaoa",
        "FJNUwmbgGyua",
        "w6K7xa23Elo4",
        "yQaldy8SH6Dl",
        "PH-0ReGfmX4f",
        "mDgbUHAGgjLW",
        "O_i_v8NEhb9l",
        "HhfV-JJviCcP",
        "Y3lxredqlCYt",
        "3RnN4peoiCZX",
        "x71ZqKXriCWQ",
        "7hBIi_osiCS2",
        "JlHwYmJAmNHm",
        "35m5QtbWiB9F",
        "PoPl-ycgm1ru",
        "H0kj-8xxnORC",
        "nA9Y7ga8ng1Z",
        "PBTbrJXOngz2",
        "u3PMJOP6ngxN",
        "dauF4eBmngu3",
        "bKJF3rekwFvQ",
        "MSa1f5Uengrz",
        "GF8Ens_Soomf",
        "0wOQAZs5pc--",
        "K5QZ13OEpz2H",
        "lQ7QKXXCp7Bj",
        "448CDAPjqfQr",
        "KSlN3yHqYklG",
        "t6dVpIINYklI",
        "ijmpgYnKYklI",
        "-JiQyfWJYklI",
        "EM7whBJCYoAo",
        "fge-S5ZAYoAp",
        "85gYPyotYoAp",
        "RoGjAbkUYoAp",
        "4Of9eVA-YrdM",
        "iky9q4vBYrdO",
        "F6T5p64dYrdO",
        "y-Ehk30pYrdP",
        "bamQiAODYuh1",
        "QHF8YVU7Yuh3",
        "GwzvFGzlYuh3",
        "qYpmQ266Yuh3",
        "OH-pJp9IphqM",
        "bbFf2-_FphqN",
        "_ouA3fa0phqN",
        "Seke61FWphqN",
        "PIIx-8_IphqN",
        "t27r6nlMphqO",
        "r2jJGEOYphqO",
        "b0JNsNcRphqO",
        "BZR9WyysphqO",
        "jj7wYXLtphqO",
        "eZrbJ2SmphqO",
        "rFu4xreNphqO",
        "YJ55k-q6phqO",
        "gCFgpxoyphqP",
        "OVtJsKN_phqQ",
        "lssrdh5qphqQ",
        "U2RJ9gkRphqQ",
        "1M8mcRywphqQ",
        "tgIPom80phqQ",
        "JMzcOPDDphqR",
        "x-EpHcCOp1ci",
        "X_VqEhTip1ck",
        "8zGJKyg5p1ck",
        "PVzmfK_Ep1ck",
        "n3dbpmDWp1ck",
        "ylSl6qgtp1ck",
        "ZWILFDl5p1ck",
        "M7G43BXep1ck",
        "Ag9LCva-p1cl",
        "E6MkPsBcp1cl",
        "2cELzS2fp1cl",
        "3MPXvC8up1cl",
        "NC_X3p0fY2L0",
        "UV0SzAkaZNRQ",
        "YPEH6qLeZNRQ",
        "q29F0dvdveiT",
        "EXh0U9oCveiU",
        "22aHeOlLveiV",
        "JcMwzZxoAimU",
        "8G2x9gOozGDZ",
        "gCX9965dhzqZ",
        "gIfDvo9L0UH2"
      ],
      "include_colab_link": true
    },
    "kernelspec": {
      "name": "python3",
      "display_name": "Python 3"
    },
    "language_info": {
      "name": "python"
    }
  },
  "cells": [
    {
      "cell_type": "markdown",
      "metadata": {
        "id": "view-in-github",
        "colab_type": "text"
      },
      "source": [
        "<a href=\"https://colab.research.google.com/github/Shankyy1199/Global-Terrorism-Database-GTD-analysis/blob/main/Global_Terrorism_Database_GTD_analysis.ipynb\" target=\"_parent\"><img src=\"https://colab.research.google.com/assets/colab-badge.svg\" alt=\"Open In Colab\"/></a>"
      ]
    },
    {
      "cell_type": "markdown",
      "source": [
        "# **Project Name**    -\n",
        "\n"
      ],
      "metadata": {
        "id": "vncDsAP0Gaoa"
      }
    },
    {
      "cell_type": "markdown",
      "source": [
        "##### **Project Type**    - EDA\n",
        "##### **Contribution**    - Team\n",
        "##### **Team Member 1 -** Shashank Chavan\n",
        "##### **Team Member 2 -**\n",
        "##### **Team Member 3 -**\n",
        "##### **Team Member 4 -**"
      ],
      "metadata": {
        "id": "beRrZCGUAJYm"
      }
    },
    {
      "cell_type": "markdown",
      "source": [
        "# **Project Summary -**"
      ],
      "metadata": {
        "id": "FJNUwmbgGyua"
      }
    },
    {
      "cell_type": "markdown",
      "source": [
        "Write the summary here within 500-600 words."
      ],
      "metadata": {
        "id": "F6v_1wHtG2nS"
      }
    },
    {
      "cell_type": "markdown",
      "source": [
        "# **GitHub Link -**"
      ],
      "metadata": {
        "id": "w6K7xa23Elo4"
      }
    },
    {
      "cell_type": "markdown",
      "source": [
        "Provide your GitHub Link here."
      ],
      "metadata": {
        "id": "h1o69JH3Eqqn"
      }
    },
    {
      "cell_type": "markdown",
      "source": [
        "# **Problem Statement**\n"
      ],
      "metadata": {
        "id": "yQaldy8SH6Dl"
      }
    },
    {
      "cell_type": "markdown",
      "source": [
        "**Write Problem Statement Here.**"
      ],
      "metadata": {
        "id": "DpeJGUA3kjGy"
      }
    },
    {
      "cell_type": "markdown",
      "source": [
        "#### **Define Your Business Objective?**"
      ],
      "metadata": {
        "id": "PH-0ReGfmX4f"
      }
    },
    {
      "cell_type": "markdown",
      "source": [
        "Answer Here."
      ],
      "metadata": {
        "id": "PhDvGCAqmjP1"
      }
    },
    {
      "cell_type": "markdown",
      "source": [
        "# **General Guidelines** : -  "
      ],
      "metadata": {
        "id": "mDgbUHAGgjLW"
      }
    },
    {
      "cell_type": "markdown",
      "source": [
        "1.   Well-structured, formatted, and commented code is required.\n",
        "2.   Exception Handling, Production Grade Code & Deployment Ready Code will be a plus. Those students will be awarded some additional credits.\n",
        "     \n",
        "     The additional credits will have advantages over other students during Star Student selection.\n",
        "       \n",
        "             [ Note: - Deployment Ready Code is defined as, the whole .ipynb notebook should be executable in one go\n",
        "                       without a single error logged. ]\n",
        "\n",
        "3.   Each and every logic should have proper comments.\n",
        "4. You may add as many number of charts you want. Make Sure for each and every chart the following format should be answered.\n",
        "        \n",
        "\n",
        "```\n",
        "# Chart visualization code\n",
        "```\n",
        "            \n",
        "\n",
        "*   Why did you pick the specific chart?\n",
        "*   What is/are the insight(s) found from the chart?\n",
        "* Will the gained insights help creating a positive business impact?\n",
        "Are there any insights that lead to negative growth? Justify with specific reason.\n",
        "\n",
        "5. You have to create at least 20 logical & meaningful charts having important insights.\n",
        "\n",
        "\n",
        "[ Hints : - Do the Vizualization in  a structured way while following \"UBM\" Rule.\n",
        "\n",
        "U - Univariate Analysis,\n",
        "\n",
        "B - Bivariate Analysis (Numerical - Categorical, Numerical - Numerical, Categorical - Categorical)\n",
        "\n",
        "M - Multivariate Analysis\n",
        " ]\n",
        "\n",
        "\n",
        "\n"
      ],
      "metadata": {
        "id": "ZrxVaUj-hHfC"
      }
    },
    {
      "cell_type": "markdown",
      "source": [
        "# ***Let's Begin !***"
      ],
      "metadata": {
        "id": "O_i_v8NEhb9l"
      }
    },
    {
      "cell_type": "markdown",
      "source": [
        "## ***1. Know Your Data***"
      ],
      "metadata": {
        "id": "HhfV-JJviCcP"
      }
    },
    {
      "cell_type": "markdown",
      "source": [
        "### Import Libraries"
      ],
      "metadata": {
        "id": "Y3lxredqlCYt"
      }
    },
    {
      "cell_type": "code",
      "source": [
        "import numpy as np\n",
        "import pandas as pd\n",
        "import matplotlib.pyplot as plt\n",
        "%matplotlib inline\n",
        "import seaborn as sns\n",
        "\n"
      ],
      "metadata": {
        "id": "3FQQfaUOr0GR"
      },
      "execution_count": null,
      "outputs": []
    },
    {
      "cell_type": "markdown",
      "source": [
        "### Dataset Loading"
      ],
      "metadata": {
        "id": "3RnN4peoiCZX"
      }
    },
    {
      "cell_type": "code",
      "source": [
        "from google.colab import drive\n",
        "drive.mount('/content/drive')"
      ],
      "metadata": {
        "id": "t7l8Uq9OsZAN"
      },
      "execution_count": null,
      "outputs": []
    },
    {
      "cell_type": "code",
      "source": [
        "# Load Dataset\n",
        "df = pd.read_csv('/content/drive/MyDrive/Cohort Venice/EDA project/Global Terrorism Data.csv', encoding = ('ISO-8859-1'), low_memory=False)"
      ],
      "metadata": {
        "id": "4CkvbW_SlZ_R"
      },
      "execution_count": null,
      "outputs": []
    },
    {
      "cell_type": "markdown",
      "source": [
        "### Dataset First View"
      ],
      "metadata": {
        "id": "x71ZqKXriCWQ"
      }
    },
    {
      "cell_type": "code",
      "source": [
        "# Dataset First Look\n",
        "df.head()"
      ],
      "metadata": {
        "id": "LWNFOSvLl09H"
      },
      "execution_count": null,
      "outputs": []
    },
    {
      "cell_type": "code",
      "source": [
        "df.tail()"
      ],
      "metadata": {
        "id": "Tw242JfSBPDi"
      },
      "execution_count": null,
      "outputs": []
    },
    {
      "cell_type": "markdown",
      "source": [
        "### Dataset Rows & Columns count"
      ],
      "metadata": {
        "id": "7hBIi_osiCS2"
      }
    },
    {
      "cell_type": "code",
      "source": [
        "# Dataset Rows & Columns count\n",
        "df.shape"
      ],
      "metadata": {
        "id": "Kllu7SJgmLij"
      },
      "execution_count": null,
      "outputs": []
    },
    {
      "cell_type": "code",
      "source": [
        "df.columns"
      ],
      "metadata": {
        "id": "Qv9OVrPcDigR"
      },
      "execution_count": null,
      "outputs": []
    },
    {
      "cell_type": "markdown",
      "source": [
        "### Dataset Information"
      ],
      "metadata": {
        "id": "JlHwYmJAmNHm"
      }
    },
    {
      "cell_type": "code",
      "source": [
        "# Dataset Info\n",
        "df.info()"
      ],
      "metadata": {
        "id": "e9hRXRi6meOf"
      },
      "execution_count": null,
      "outputs": []
    },
    {
      "cell_type": "code",
      "source": [
        "df.describe().T"
      ],
      "metadata": {
        "id": "d3OIafI3B2Os"
      },
      "execution_count": null,
      "outputs": []
    },
    {
      "cell_type": "markdown",
      "source": [
        "**Let us create a new dataset with columns we want to work upon**"
      ],
      "metadata": {
        "id": "twLZSaosmwCL"
      }
    },
    {
      "cell_type": "code",
      "source": [
        "#select the relevent coiumns from dataset\n",
        "df_new = df[['eventid','iyear','imonth','iday','country_txt','region_txt','city','multiple', 'success','attacktype1_txt','targtype1_txt','nkill','weapdetail','nwound', 'claimed','gname','provstate']].copy()"
      ],
      "metadata": {
        "id": "7_2HxVnlmWHa"
      },
      "execution_count": null,
      "outputs": []
    },
    {
      "cell_type": "code",
      "source": [
        "#Rename columns for easier handling\n",
        "df_new.rename(columns={'eventid':'id','iyear':'year','imonth':'month','iday':'day','country_txt':'country','region_txt':'region','attacktype1_txt':'attack_type','targtype1_txt':'target_type','nkill':'fatalities','weapdetail':'weapon_detail','nwound':'wounded','gname':'perpetrator'}, inplace = True)"
      ],
      "metadata": {
        "id": "frBZQMgRnMpV"
      },
      "execution_count": null,
      "outputs": []
    },
    {
      "cell_type": "code",
      "source": [
        "df_new.head(25)"
      ],
      "metadata": {
        "id": "R8hoQcD1zSLY"
      },
      "execution_count": null,
      "outputs": []
    },
    {
      "cell_type": "code",
      "source": [
        "df_new.info()"
      ],
      "metadata": {
        "id": "JCcknxRA0y7g"
      },
      "execution_count": null,
      "outputs": []
    },
    {
      "cell_type": "markdown",
      "source": [
        "#### Duplicate Values"
      ],
      "metadata": {
        "id": "35m5QtbWiB9F"
      }
    },
    {
      "cell_type": "code",
      "source": [
        "# Dataset Duplicate Value Count\n",
        "len(df_new[df_new.duplicated()])"
      ],
      "metadata": {
        "id": "1sLdpKYkmox0"
      },
      "execution_count": null,
      "outputs": []
    },
    {
      "cell_type": "markdown",
      "source": [
        "#### Missing Values/Null Values"
      ],
      "metadata": {
        "id": "PoPl-ycgm1ru"
      }
    },
    {
      "cell_type": "code",
      "source": [
        "# Missing Values/Null Values Count\n",
        "df_new.isnull().sum()\n"
      ],
      "metadata": {
        "id": "GgHWkxvamxVg"
      },
      "execution_count": null,
      "outputs": []
    },
    {
      "cell_type": "markdown",
      "source": [
        "### What did you know about your dataset?"
      ],
      "metadata": {
        "id": "H0kj-8xxnORC"
      }
    },
    {
      "cell_type": "markdown",
      "source": [
        "# **In the raw data set the number of rows are 181691 and columns are 135, we are going consider 17 columns out of 135 for further data manupulation and visualization. In this 17 columns duplicated data is not present and column named city, fatalities, weapon detail, wounded, claimed, provstate contains some null values.  **  "
      ],
      "metadata": {
        "id": "gfoNAAC-nUe_"
      }
    },
    {
      "cell_type": "markdown",
      "source": [
        "## ***2. Understanding Your Variables***"
      ],
      "metadata": {
        "id": "nA9Y7ga8ng1Z"
      }
    },
    {
      "cell_type": "code",
      "source": [
        "# Dataset Columns\n",
        "df_new.columns"
      ],
      "metadata": {
        "id": "j7xfkqrt5Ag5"
      },
      "execution_count": null,
      "outputs": []
    },
    {
      "cell_type": "code",
      "source": [
        "# Dataset Describe\n",
        "df_new.describe(include='all')"
      ],
      "metadata": {
        "id": "DnOaZdaE5Q5t"
      },
      "execution_count": null,
      "outputs": []
    },
    {
      "cell_type": "markdown",
      "source": [
        "### Variables Description"
      ],
      "metadata": {
        "id": "PBTbrJXOngz2"
      }
    },
    {
      "cell_type": "markdown",
      "source": [
        "\n",
        "\n",
        "*   ID - A 12 digit event ID or code.\n",
        "*   YEAR - This field contains the year in which the incident occurred.\n",
        "*   MONTH - This field contains the number of the month in which the incident occurred.\n",
        "*   DAY - This field contains the numeric day of the month on which the incident occurred.\n",
        "*  COUNTRY - This field identifies the country or location where the incident occurred.\n",
        "*   REGION - This field identifies the region in which the incident occurred.\n",
        "*   CITY - This field contains the name of the city, village, or town in which the incident occurred.\n",
        "*   MULTIPLE -  Catagorical variable conatins those cases where several attacks are connected, but where the various actions do not constitute a single incident\n",
        "*   SUCCESS - Catagorical variable for the successful incident.\n",
        "*   ATTACK_TYPE - This field captures the general method of attack and often reflects the broad class of tactics used.\n",
        "*  TARGET_TYPE - The target/victim type field captures the general type of target/victim.\n",
        "*   FATALITIES - This field stores the number of total confirmed fatalities for the incident.\n",
        "*   WEAPON_DETAIL - Information on up to four types and sub-types of the weapons used in an attack are recorded for each case, in addition to any information on specific weapon details reported.\n",
        "*   WOUNDED - This field records the number of confirmed non-fatal injuries to both perpetrators and victims.\n",
        "*  CLAIMED - This field is used to indicate whether a group or person(s) claimed responsibility for the attack.\n",
        "*   PERPETRATOR - This field contains the name of the group that carried out the attack.\n",
        "*   PROSTATE -  This variable records the name (at the time of event) of the 1st order subnational administrative region in which the event occurs.\n",
        "\n",
        "\n",
        "\n",
        "\n",
        "\n",
        "\n",
        "\n",
        "\n",
        "\n",
        "\n"
      ],
      "metadata": {
        "id": "aJV4KIxSnxay"
      }
    },
    {
      "cell_type": "markdown",
      "source": [
        "### Check Unique Values for each variable."
      ],
      "metadata": {
        "id": "u3PMJOP6ngxN"
      }
    },
    {
      "cell_type": "code",
      "source": [
        "# Check Unique Values for each variable.\n",
        "for i in df_new.columns.tolist():\n",
        "  print(\"No. of unique values in \",i,\"is\",df_new[i].nunique(),\".\")"
      ],
      "metadata": {
        "id": "zms12Yq5n-jE"
      },
      "execution_count": null,
      "outputs": []
    },
    {
      "cell_type": "markdown",
      "source": [
        "## 3. ***Data Wrangling***"
      ],
      "metadata": {
        "id": "dauF4eBmngu3"
      }
    },
    {
      "cell_type": "markdown",
      "source": [
        "### Data Wrangling Code"
      ],
      "metadata": {
        "id": "bKJF3rekwFvQ"
      }
    },
    {
      "cell_type": "code",
      "source": [
        "# Write your code to make your dataset analysis ready.\n",
        "df1 = df_new.copy()"
      ],
      "metadata": {
        "id": "wk-9a2fpoLcV"
      },
      "execution_count": null,
      "outputs": []
    },
    {
      "cell_type": "markdown",
      "source": [
        "# **How many year-wise attacks are happened in different regions of the world?**"
      ],
      "metadata": {
        "id": "K0KMDGVv3xgk"
      }
    },
    {
      "cell_type": "code",
      "source": [
        "#Year-wise attacks are counted in the diffrent regions of the world\n",
        "worldwide_year_wise_attacks = df1.groupby(['year', 'region'])\\\n",
        ".agg({'id':'count'}).rename(columns={'id':'No_of_attacks'})\\\n",
        ".reset_index()\n",
        "worldwide_year_wise_attacks"
      ],
      "metadata": {
        "id": "-xYU6Jhb36_C"
      },
      "execution_count": null,
      "outputs": []
    },
    {
      "cell_type": "code",
      "source": [
        "#A scatter plot is plotted to show the relation between number of attacks, years and different regions\n",
        "plt.scatter(y=worldwide_year_wise_attacks['region'], x=worldwide_year_wise_attacks['year'],s=100, c=worldwide_year_wise_attacks['No_of_attacks'], cmap=plt.cm.get_cmap('PiYG',15))\n",
        "plt.xlabel('Year')\n",
        "plt.ylabel('Region Attacked')\n",
        "plt.title('Worldwide year-wise attacks')\n",
        "plt.colorbar(orientation= 'horizontal', label= 'Number of attacks', extend = 'both')\n",
        "plt.show()"
      ],
      "metadata": {
        "id": "g2rTPvO07O86"
      },
      "execution_count": null,
      "outputs": []
    },
    {
      "cell_type": "markdown",
      "source": [
        "# **What are the total number of region-wise attacks happened from year 1970-2017**"
      ],
      "metadata": {
        "id": "SiFgkoP1M0M-"
      }
    },
    {
      "cell_type": "code",
      "source": [
        "# Checking for the top 10 regions with the most number of attacks\n",
        "df_region = df1[['region']].copy()\n",
        "region_wise_attacks = df_region.groupby('region').agg({'region' : 'count'})\\\n",
        ".rename(columns = {'region' : 'total_attacks'}).sort_values('total_attacks', ascending=False)[:10]\\\n",
        ".reset_index()"
      ],
      "metadata": {
        "id": "bkE8udocLJ4N"
      },
      "execution_count": null,
      "outputs": []
    },
    {
      "cell_type": "code",
      "source": [
        "#Horizontal bar graph to show the number of attacks\n",
        "plt.rcParams['figure.figsize']=(15,7)\n",
        "sns.set(font_scale=1.3)\n",
        "sns.set_style('ticks')\n",
        "ax=sns.barplot(x='total_attacks', y='region', data=region_wise_attacks, palette='crest')\n",
        "ax.set_title(\"Region-Wise Terrorist Attack - Year 1970-2017\",fontsize=25,fontweight='bold')\n",
        "ax.set_xlabel('Total Attacks',fontsize=20)\n",
        "ax.set_ylabel('Region',fontsize=20)"
      ],
      "metadata": {
        "id": "SdaYVSrrT4fn"
      },
      "execution_count": null,
      "outputs": []
    },
    {
      "cell_type": "markdown",
      "source": [
        "**As the top two most affected regions are Middle East and North Africa, South asia. Let us find out the most affected country in this different regions.**"
      ],
      "metadata": {
        "id": "bFYoE0VYUWOA"
      }
    },
    {
      "cell_type": "markdown",
      "source": [
        "# **Which countries are most attacked in this period of time from different regions?**"
      ],
      "metadata": {
        "id": "qLMi8OkvOvJB"
      }
    },
    {
      "cell_type": "code",
      "source": [
        "df_country = df1[['country', 'region', 'id']].copy()\n",
        "affected_countries = df_country.groupby(['region', 'country']).agg({'id': 'count'})\\\n",
        ".rename(columns = {'id': 'total_attack'}).sort_values('total_attack', ascending = False).reset_index()\n",
        "affected_countries[:20]"
      ],
      "metadata": {
        "id": "kUb49p78cNoB"
      },
      "execution_count": null,
      "outputs": []
    },
    {
      "cell_type": "markdown",
      "source": [
        "**The most affected country in Middle East and North Africa is Iraq and in South asia it is pakistan.\n",
        "Let us go deep down on each country (Iraq and Pakistan) one by one to find any pattern.**"
      ],
      "metadata": {
        "id": "IpyQjnlTcNCW"
      }
    },
    {
      "cell_type": "code",
      "source": [
        "#Let us create two dataset, one with all records of country Iraq and one with all records of country Pakistan\n",
        "df_iraq = df1[df1['country'] == 'Iraq'].copy()\n",
        "df_pakistan = df1[df1['country'] == 'Pakistan'].copy()"
      ],
      "metadata": {
        "id": "qbx2iqUvdDg6"
      },
      "execution_count": null,
      "outputs": []
    },
    {
      "cell_type": "markdown",
      "source": [
        "# **What are the top 5 targets in Iraq and Pakistan?**"
      ],
      "metadata": {
        "id": "Ur7NwmYZfIgs"
      }
    },
    {
      "cell_type": "code",
      "source": [
        "#top 5 targets in Iraq\n",
        "target_in_iraq = df_iraq.groupby('target_type').agg({'target_type' : 'count'})\\\n",
        ".rename(columns = {'target_type' : 'total_attacks'}).sort_values('total_attacks',ascending = False).head(5).reset_index()\n",
        "target_in_iraq"
      ],
      "metadata": {
        "id": "QcKp1HpOeaix"
      },
      "execution_count": null,
      "outputs": []
    },
    {
      "cell_type": "code",
      "source": [
        "#top 5 targets in Pakistan\n",
        "target_in_pakistan = df_pakistan.groupby('target_type').agg({'target_type' : 'count'})\\\n",
        ".rename(columns = {'target_type' : 'total_attacks'}).sort_values('total_attacks',ascending = False).head(5).reset_index()\n",
        "target_in_pakistan"
      ],
      "metadata": {
        "id": "tpu0Md_1o6VU"
      },
      "execution_count": null,
      "outputs": []
    },
    {
      "cell_type": "code",
      "source": [
        "#Seaborn is used to illustrate a barplot in subplot type\n",
        "sns.set(font_scale=1.3)\n",
        "sns.set_style(\"ticks\")\n",
        "fig, axarr = plt.subplots(1,2, figsize=(25, 10))\n",
        "a = sns.barplot(data=target_in_iraq.head(5), x='target_type', y='total_attacks', ax=axarr[0], palette='rocket')\n",
        "a.set_title(\"Most Affected Targets in Iraq\",fontsize=20,fontweight='bold')\n",
        "a.set_xlabel('Target Type', fontsize=15)\n",
        "a.set_ylabel('Total Attacks',fontsize=15)\n",
        "b = sns.barplot(data=target_in_pakistan.head(5), x='target_type', y='total_attacks', ax=axarr[1], palette='rocket')\n",
        "b.set_title(\"Most affected Targets in Pakistan\",fontsize=20,fontweight='bold')\n",
        "b.set_xlabel('Target Type',fontsize=15)\n",
        "b.set_ylabel('Total Attacks',fontsize=15)\n"
      ],
      "metadata": {
        "id": "cU3Lm-t1pip-"
      },
      "execution_count": null,
      "outputs": []
    },
    {
      "cell_type": "markdown",
      "source": [
        "**Both in Iraq and Pakistan citizens and private properties are affected the most followed by the police and military.**"
      ],
      "metadata": {
        "id": "iivzb9dgSz9J"
      }
    },
    {
      "cell_type": "markdown",
      "source": [
        "# **Which type of attack causes more damage in terms of fatalities and wounded people in Iraq and Pakistan?**  "
      ],
      "metadata": {
        "id": "59QTk5LfKAnU"
      }
    },
    {
      "cell_type": "code",
      "source": [
        "#Drop the rows from the dataset which has the null values in it.\n",
        "df_iraq.head()\n",
        "null_iraq = df_iraq.isnull().sum()\n",
        "non_null_iraq = df_iraq.dropna()\n",
        "non_null_iraq.head()"
      ],
      "metadata": {
        "id": "UlLTcMNPKkix"
      },
      "execution_count": null,
      "outputs": []
    },
    {
      "cell_type": "code",
      "source": [
        "null_pakistan = df_pakistan.isnull().sum()\n",
        "non_null_pakistan = df_pakistan.dropna()\n",
        "non_null_pakistan.isnull().sum()"
      ],
      "metadata": {
        "id": "v82Ox0AcKzBR"
      },
      "execution_count": null,
      "outputs": []
    },
    {
      "cell_type": "code",
      "source": [
        "#Consider the fatalities and wounded as a overall damaged.\n",
        "non_null_iraq['damage'] = non_null_iraq['fatalities'] + non_null_iraq['wounded']\n",
        "non_null_pakistan['damage'] = non_null_pakistan['fatalities'] + non_null_pakistan['wounded']\n"
      ],
      "metadata": {
        "id": "zNtptnTtVyy2"
      },
      "execution_count": null,
      "outputs": []
    },
    {
      "cell_type": "code",
      "source": [
        "#Damage in Iraq\n",
        "col_to_work = ['id', 'attack_type', 'damage']\n",
        "attack_damage_iraq = non_null_iraq.groupby('attack_type').agg({'damage':'sum','id': 'count'})\\\n",
        ".rename(columns = {'id': 'attack_count'}).sort_values('damage', ascending = False).reset_index()\n",
        "attack_damage_iraq"
      ],
      "metadata": {
        "id": "BGykvvDlTpkq"
      },
      "execution_count": null,
      "outputs": []
    },
    {
      "cell_type": "code",
      "source": [
        "#Damage in Pakistan\n",
        "attack_damage_pakistan = non_null_pakistan.groupby('attack_type').agg({'damage':'sum','id': 'count'})\\\n",
        ".rename(columns = {'id': 'attack_count'}).sort_values('damage', ascending = False).reset_index()\n",
        "attack_damage_pakistan"
      ],
      "metadata": {
        "id": "l4VdntJUZq5y"
      },
      "execution_count": null,
      "outputs": []
    },
    {
      "cell_type": "code",
      "source": [
        "#Plotted the pie chart to show the distribution of attack type in Iraq.\n",
        "pie_labels = ['Bombing/Explosion', 'Armed Assault', 'Hostage kidnapping', 'Unknown','Assassination',]\n",
        "explode=[0.05,0,0,0,0]\n",
        "plt.rcParams['figure.figsize']=(12,7)\n",
        "plt.pie(attack_damage_iraq[\"attack_count\"].head(5),labels=pie_labels,explode= explode, shadow=True, autopct='%1.1f%%')\n",
        "plt.title('Total attacks in Iraq')\n",
        "plt.axis('equal')\n",
        "plt.show()"
      ],
      "metadata": {
        "id": "E14d__iNjfy0"
      },
      "execution_count": null,
      "outputs": []
    },
    {
      "cell_type": "code",
      "source": [
        "#Plotted the pie chart to show the distribution of damage due to different attacks in Iraq.\n",
        "pie_labels = ['Bombing/Explosion', 'Armed Assault', 'Hostage kidnapping', 'Unknown','Assassination',]\n",
        "explode=[0.05,0,0,0,0]\n",
        "plt.rcParams['figure.figsize']=(12,7)\n",
        "plt.pie(attack_damage_iraq[\"damage\"].head(5),labels=pie_labels,explode= explode, shadow=True, autopct='%1.1f%%')\n",
        "plt.title('Total damage in Iraq due diffrent types of attacks')\n",
        "plt.axis('equal')\n",
        "plt.show()\n"
      ],
      "metadata": {
        "id": "eEZPNd14aIco"
      },
      "execution_count": null,
      "outputs": []
    },
    {
      "cell_type": "markdown",
      "source": [
        "**In Iraq bombing/explosion attacks are 82% which causes about 92% damage of total damage followed by the armed assaults which is 10.6% causing 4% damage of total damage.**"
      ],
      "metadata": {
        "id": "-HeCw59oYGK1"
      }
    },
    {
      "cell_type": "code",
      "source": [
        "#Plotted the pie chart to show the distribution of attack type in Pakistan.\n",
        "pie_labels = ['Bombing/Explosion', 'Armed Assault','Assassination', 'Hostage kidnapping','Unknown']\n",
        "explode=[0.05,0,0,0,0]\n",
        "plt.rcParams['figure.figsize']=(12,7)\n",
        "plt.pie(attack_damage_pakistan[\"attack_count\"].head(5),labels=pie_labels,explode= explode, shadow=True, autopct='%1.1f%%')\n",
        "plt.title('Total attacks in Pakistan')\n",
        "plt.axis('equal')\n",
        "plt.show()"
      ],
      "metadata": {
        "id": "QwYRxr14l2HM"
      },
      "execution_count": null,
      "outputs": []
    },
    {
      "cell_type": "code",
      "source": [
        "#Plotted the pie chart to show the distribution of damage due to different attacks in Pakistan.\n",
        "pie_labels = ['Bombing/Explosion', 'Armed Assault','Assassination', 'Hostage kidnapping','Unknown']\n",
        "explode=[0.05,0,0,0,0]\n",
        "plt.rcParams['figure.figsize']=(12,7)\n",
        "plt.pie(attack_damage_pakistan[\"damage\"].head(5),labels=pie_labels,explode= explode, shadow=True, autopct='%1.1f%%')\n",
        "plt.title('Total damage in Pakistan due diffrent types of attacks')\n",
        "plt.axis('equal')\n",
        "plt.show()"
      ],
      "metadata": {
        "id": "nd5DE7r2m0FE"
      },
      "execution_count": null,
      "outputs": []
    },
    {
      "cell_type": "markdown",
      "source": [
        "**In Pakistan bombing/explosion attacks are 74% which causes about 82% damage of total damage followed by the armed assaults which is 17% causing 11.3% damage of total damage.**"
      ],
      "metadata": {
        "id": "Z7LCiriMZgVj"
      }
    },
    {
      "cell_type": "markdown",
      "source": [
        "# **What are the top 5 terrorist groups invovled in attacks in these countries?**"
      ],
      "metadata": {
        "id": "Ld1XozffkufW"
      }
    },
    {
      "cell_type": "code",
      "source": [
        "#Most active terrorist group in Iraq\n",
        "most_active_known_perpetrator_iraq = df_iraq.groupby('perpetrator').agg({'id': 'count'})\\\n",
        ".rename(columns = {'id':'No_of_attacks'}).sort_values('No_of_attacks', ascending = False)[1:7].reset_index()\n",
        "most_active_known_perpetrator_iraq.head(5)"
      ],
      "metadata": {
        "id": "5AsIE0bdmHKG"
      },
      "execution_count": null,
      "outputs": []
    },
    {
      "cell_type": "code",
      "source": [
        "#Barpolt to show the most active terrorist group in Iraq\n",
        "ax=plt.rcParams['figure.figsize'] = 10, 5\n",
        "most_active_known_perpetrator_iraq.head(5).plot(zorder=5,color='C2', marker='o')\n",
        "ax=sns.barplot(data= most_active_known_perpetrator_iraq.head(5), x='perpetrator', y = 'No_of_attacks', palette = 'pastel')\n",
        "ax.set_xlabel('Terrorist groups',fontsize=18)\n",
        "plt.xticks(rotation = 75)\n",
        "ax.set_ylabel('Number of Terrorist Attacks',fontsize=18)\n",
        "ax.set_title('Top terrorist groups active in Iraq',fontsize=20);"
      ],
      "metadata": {
        "id": "oIYNevFwrcOJ"
      },
      "execution_count": null,
      "outputs": []
    },
    {
      "cell_type": "code",
      "source": [
        "#Most active terrorist group in Pakistan\n",
        "most_active_known_perpetrator_pakistan = df_pakistan.groupby('perpetrator').agg({'id': 'count'}).rename(columns = {'id':'No_of_attacks'}).sort_values('No_of_attacks', ascending = False)[1:7].reset_index()\n",
        "most_active_known_perpetrator_pakistan.head(6)"
      ],
      "metadata": {
        "id": "vPI4FREcofBs"
      },
      "execution_count": null,
      "outputs": []
    },
    {
      "cell_type": "code",
      "source": [
        "#Barpolt to show the most active terrorist group in Pakistan.\n",
        "ax=plt.rcParams['figure.figsize'] = 10,5\n",
        "most_active_known_perpetrator_pakistan.head(5).plot(zorder=5,color='C2', marker='o')\n",
        "ax=sns.barplot(data= most_active_known_perpetrator_pakistan.head(5), x='perpetrator', y = 'No_of_attacks', palette = 'pastel')\n",
        "ax.set_xlabel('Terrorist groups',fontsize=18)\n",
        "plt.xticks(rotation = 75)\n",
        "ax.set_ylabel('Number of Terrorist Attacks',fontsize=18)\n",
        "ax.set_title('Top terrorist groups active in Pakistan',fontsize=20);"
      ],
      "metadata": {
        "id": "by-T5QDiov7p"
      },
      "execution_count": null,
      "outputs": []
    },
    {
      "cell_type": "markdown",
      "source": [
        "# **What are the top 5 most attacked cities in Iraq and Pakistan?**"
      ],
      "metadata": {
        "id": "8bV1Lk6T9vxV"
      }
    },
    {
      "cell_type": "code",
      "source": [
        "df_city1 = non_null_iraq[non_null_iraq['city'] != 'Unknown']\n",
        "most_attacked_city_iraq = df_city1['city'].value_counts().head(10).reset_index().rename(columns= {'index':'city', 'city':'No_of_Attacks'})\n",
        "most_attacked_city_iraq\n",
        "plt.rcParams[\"figure.figsize\"] = (10, 5)\n",
        "most_attacked_city_iraq.plot(zorder=5,color='b', marker='o')\n",
        "ax=sns.barplot(x='city',y='No_of_Attacks',data=most_attacked_city_iraq.head(5), palette='rocket')\n",
        "ax.set_xlabel('City',fontsize=18)\n",
        "plt.xticks(rotation = 75)\n",
        "ax.set_ylabel('Number of Attacks',fontsize=18)\n",
        "ax.set_title('Most Attacked Cities in Iraq',fontsize=20);"
      ],
      "metadata": {
        "id": "5FAyz_PCuzrh"
      },
      "execution_count": null,
      "outputs": []
    },
    {
      "cell_type": "markdown",
      "source": [
        "**In Iraq the top attacked cities are Baghdad with most number of attacks followed by the Mosul, Kirkuk, Baqubah abd Fallujah respectively.**"
      ],
      "metadata": {
        "id": "Y-xbgCI5-K2k"
      }
    },
    {
      "cell_type": "code",
      "source": [
        "df_city2 = non_null_pakistan[non_null_pakistan['city'] != 'Unknown']\n",
        "most_attacked_city_pakistan = df_city2['city'].value_counts().head(10).reset_index().rename(columns= {'index':'city', 'city':'No_of_Attacks'})\n",
        "most_attacked_city_pakistan\n",
        "plt.rcParams[\"figure.figsize\"] = (10, 5)\n",
        "most_attacked_city_pakistan.plot(zorder=5,color='b', marker='o')\n",
        "ax=sns.barplot(x='city',y='No_of_Attacks',data=most_attacked_city_pakistan.head(5), palette='rocket')\n",
        "ax.set_xlabel('City',fontsize=18)\n",
        "plt.xticks(rotation = 75)\n",
        "ax.set_ylabel('Number of Attacks',fontsize=18)\n",
        "ax.set_title('Most Attacked Cities in Pakistan',fontsize=20);"
      ],
      "metadata": {
        "id": "IszgA9ei-eO0"
      },
      "execution_count": null,
      "outputs": []
    },
    {
      "cell_type": "markdown",
      "source": [
        "**In Pakistan the Karachi city was attacked the most followed by the Peshawar, Quetta, Mohmand district and Landi Kotal respectively.**"
      ],
      "metadata": {
        "id": "A1YT-1x6-wzD"
      }
    },
    {
      "cell_type": "markdown",
      "source": [
        "# **Does a clamied attacks causes more casualities than unclamied attacks in Iraq and Pakistan?**"
      ],
      "metadata": {
        "id": "V-jjMrC1bmSX"
      }
    },
    {
      "cell_type": "code",
      "source": [
        "#Stored the data of claimed and unclaimed attacks in two different variables\n",
        "claimed_attacks_iraq = df_city1[df_city1['claimed'] == 1]\n",
        "unclaimed_attacks_iraq = df_city1[df_city1['claimed'] == 0]\n",
        "#Calculating the number of claimed attacks and falalities in different cities and the casulties per attack ratio to compare with unclaimed attacks\n",
        "claimed_attacked_city1 = claimed_attacks_iraq.groupby('city').agg({'claimed':'count','fatalities':'sum' }).sort_values('claimed', ascending = False).head(50).reset_index()\n",
        "claimed_attacked_city1['casulties_per_attack'] = claimed_attacked_city1['fatalities']/ claimed_attacked_city1['claimed']\n",
        "claimed_attacked_city1\n",
        "#Calculating the number of unclaimed attacks and falalities in different cities and the casulties per attack ratio to compare with claimed attacks\n",
        "unclaimed_attacked_city1 = unclaimed_attacks_iraq.groupby('city').agg({'claimed':'count','fatalities':'sum' }).rename(columns= {'claimed': 'unclaimed'}).sort_values('unclaimed', ascending = False).reset_index()\n",
        "unclaimed_attacked_city1['casulties_per_attack'] = unclaimed_attacked_city1['fatalities']/ unclaimed_attacked_city1['unclaimed']\n",
        "unclaimed_attacked_city1\n"
      ],
      "metadata": {
        "id": "cF8GboYZ_99p"
      },
      "execution_count": null,
      "outputs": []
    },
    {
      "cell_type": "code",
      "source": [
        "#Scatter plot to show the tri-varient (i.e. Cities vs Casulties per attack(ratio) vs Number of attacks) relation in top 10 cities.\n",
        "plt.scatter(y=claimed_attacked_city1['casulties_per_attack'].head(10), x=claimed_attacked_city1['city'].head(10),s=100, c=claimed_attacked_city1['claimed'].head(10), cmap=plt.cm.get_cmap('PiYG',15))\n",
        "plt.xlabel('Cities')\n",
        "plt.ylabel('Casulties per attack')\n",
        "plt.title('City-wise casualties in claimed attacks in Iraq')\n",
        "plt.colorbar(orientation= 'horizontal', label= 'Number of attacks', extend = 'both')\n",
        "plt.show()"
      ],
      "metadata": {
        "id": "bQ9Spxuv4b4u"
      },
      "execution_count": null,
      "outputs": []
    },
    {
      "cell_type": "code",
      "source": [
        "#Scatter plot to show the tri-varient (i.e. Cities vs Casulties per attack(ratio) vs Number of attacks) relation in top 10 cities.\n",
        "plt.scatter(y= unclaimed_attacked_city1['casulties_per_attack'].head(10), x= unclaimed_attacked_city1['city'].head(10),s=100, c= unclaimed_attacked_city1['unclaimed'].head(10), cmap=plt.cm.get_cmap('PiYG',15))\n",
        "plt.xlabel('Cities')\n",
        "plt.ylabel('Casulties per attack')\n",
        "plt.title('City-wise casualties in unclaimed attacks in Iraq')\n",
        "plt.colorbar(orientation= 'horizontal', label= 'Number of attacks', extend = 'both')\n",
        "plt.show()"
      ],
      "metadata": {
        "id": "HQvkFLlb7ztE"
      },
      "execution_count": null,
      "outputs": []
    },
    {
      "cell_type": "code",
      "source": [
        "#Stored the data of claimed and unclaimed attacks in two different variables\n",
        "claimed_attacks_pakistan = df_city2[df_city2['claimed'] == 1]\n",
        "unclaimed_attacks_pakistan = df_city2[df_city2['claimed'] == 0]\n",
        "#Calculating the number of claimed attacks and falalities in different cities and the casulties per attack ratio to compare with unclaimed attacks\n",
        "claimed_attacked_city2 = claimed_attacks_pakistan.groupby('city').agg({'claimed':'count','fatalities':'sum' }).sort_values('claimed', ascending = False).head(50).reset_index()\n",
        "claimed_attacked_city2['casulties_per_attack'] = claimed_attacked_city2['fatalities']/claimed_attacked_city2['claimed']\n",
        "claimed_attacked_city2\n",
        "#Calculating the number of unclaimed attacks and falalities in different cities and the casulties per attack ratio to compare with claimed attacks\n",
        "unclaimed_attacked_city2 = unclaimed_attacks_pakistan.groupby('city').agg({'claimed':'count','fatalities':'sum' }).rename(columns= {'claimed': 'unclaimed'}).sort_values('unclaimed', ascending = False).reset_index()\n",
        "unclaimed_attacked_city2['casulties_per_attack'] = unclaimed_attacked_city2['fatalities']/unclaimed_attacked_city2['unclaimed']\n",
        "unclaimed_attacked_city2"
      ],
      "metadata": {
        "id": "Cb0JfSdC17Nv"
      },
      "execution_count": null,
      "outputs": []
    },
    {
      "cell_type": "code",
      "source": [
        "#Scatter plot to show the tri-varient (i.e. Cities vs Casulties per attack(ratio) vs Number of attacks) relation in top 10 cities.\n",
        "plt.scatter(y=claimed_attacked_city2['casulties_per_attack'].head(10), x=claimed_attacked_city2['city'].head(10),s=100, c=claimed_attacked_city2['claimed'].head(10), cmap=plt.cm.get_cmap('PiYG',15))\n",
        "plt.xlabel('Cities')\n",
        "plt.ylabel('Casulties per attack')\n",
        "plt.title('City-wise casualties in claimed attacks in Pakistan')\n",
        "plt.colorbar(orientation= 'horizontal', label= 'Number of attacks', extend = 'both')\n",
        "plt.show()"
      ],
      "metadata": {
        "id": "9zoho7VuISmm"
      },
      "execution_count": null,
      "outputs": []
    },
    {
      "cell_type": "code",
      "source": [
        "#Scatter plot to show the tri-varient (i.e. Cities vs Casulties per attack(ratio) vs Number of attacks) relation in top 10 attacked cities\n",
        "plt.scatter(y=unclaimed_attacked_city2['casulties_per_attack'].head(10), x=unclaimed_attacked_city2['city'].head(10),s=100, c=unclaimed_attacked_city2['unclaimed'].head(10), cmap=plt.cm.get_cmap('PiYG',15))\n",
        "plt.xlabel('Cities')\n",
        "plt.ylabel('Casulties per attack')\n",
        "plt.title('City-wise casualties in unclaimed attacks in Pakistan')\n",
        "plt.colorbar(orientation= 'horizontal', label= 'Number of attacks', extend = 'both')\n",
        "plt.show()"
      ],
      "metadata": {
        "id": "lihSlJGL72pL"
      },
      "execution_count": null,
      "outputs": []
    },
    {
      "cell_type": "code",
      "source": [],
      "metadata": {
        "id": "E7aDN9Fv-3uN"
      },
      "execution_count": null,
      "outputs": []
    },
    {
      "cell_type": "markdown",
      "source": [
        "### What all manipulations have you done and insights you found?"
      ],
      "metadata": {
        "id": "MSa1f5Uengrz"
      }
    },
    {
      "cell_type": "code",
      "source": [],
      "metadata": {
        "id": "drMx0tfs4u5m"
      },
      "execution_count": null,
      "outputs": []
    },
    {
      "cell_type": "markdown",
      "source": [
        "Answer Here."
      ],
      "metadata": {
        "id": "LbyXE7I1olp8"
      }
    },
    {
      "cell_type": "markdown",
      "source": [
        "## ***4. Data Vizualization, Storytelling & Experimenting with charts : Understand the relationships between variables***"
      ],
      "metadata": {
        "id": "GF8Ens_Soomf"
      }
    },
    {
      "cell_type": "markdown",
      "source": [
        "#### Chart - 1"
      ],
      "metadata": {
        "id": "0wOQAZs5pc--"
      }
    },
    {
      "cell_type": "code",
      "source": [
        "# Chart - 1 visualization code"
      ],
      "metadata": {
        "id": "7v_ESjsspbW7"
      },
      "execution_count": null,
      "outputs": []
    },
    {
      "cell_type": "markdown",
      "source": [
        "##### 1. Why did you pick the specific chart?"
      ],
      "metadata": {
        "id": "K5QZ13OEpz2H"
      }
    },
    {
      "cell_type": "markdown",
      "source": [
        "Answer Here."
      ],
      "metadata": {
        "id": "XESiWehPqBRc"
      }
    },
    {
      "cell_type": "markdown",
      "source": [
        "##### 2. What is/are the insight(s) found from the chart?"
      ],
      "metadata": {
        "id": "lQ7QKXXCp7Bj"
      }
    },
    {
      "cell_type": "markdown",
      "source": [
        "Answer Here"
      ],
      "metadata": {
        "id": "C_j1G7yiqdRP"
      }
    },
    {
      "cell_type": "markdown",
      "source": [
        "##### 3. Will the gained insights help creating a positive business impact?\n",
        "Are there any insights that lead to negative growth? Justify with specific reason."
      ],
      "metadata": {
        "id": "448CDAPjqfQr"
      }
    },
    {
      "cell_type": "markdown",
      "source": [
        "Answer Here"
      ],
      "metadata": {
        "id": "3cspy4FjqxJW"
      }
    },
    {
      "cell_type": "markdown",
      "source": [
        "#### Chart - 2"
      ],
      "metadata": {
        "id": "KSlN3yHqYklG"
      }
    },
    {
      "cell_type": "code",
      "source": [
        "# Chart - 2 visualization code"
      ],
      "metadata": {
        "id": "R4YgtaqtYklH"
      },
      "execution_count": null,
      "outputs": []
    },
    {
      "cell_type": "markdown",
      "source": [
        "##### 1. Why did you pick the specific chart?"
      ],
      "metadata": {
        "id": "t6dVpIINYklI"
      }
    },
    {
      "cell_type": "markdown",
      "source": [
        "Answer Here."
      ],
      "metadata": {
        "id": "5aaW0BYyYklI"
      }
    },
    {
      "cell_type": "markdown",
      "source": [
        "##### 2. What is/are the insight(s) found from the chart?"
      ],
      "metadata": {
        "id": "ijmpgYnKYklI"
      }
    },
    {
      "cell_type": "markdown",
      "source": [
        "Answer Here"
      ],
      "metadata": {
        "id": "PSx9atu2YklI"
      }
    },
    {
      "cell_type": "markdown",
      "source": [
        "##### 3. Will the gained insights help creating a positive business impact?\n",
        "Are there any insights that lead to negative growth? Justify with specific reason."
      ],
      "metadata": {
        "id": "-JiQyfWJYklI"
      }
    },
    {
      "cell_type": "markdown",
      "source": [
        "Answer Here"
      ],
      "metadata": {
        "id": "BcBbebzrYklV"
      }
    },
    {
      "cell_type": "markdown",
      "source": [
        "#### Chart - 3"
      ],
      "metadata": {
        "id": "EM7whBJCYoAo"
      }
    },
    {
      "cell_type": "code",
      "source": [
        "# Chart - 3 visualization code"
      ],
      "metadata": {
        "id": "t6GMdE67YoAp"
      },
      "execution_count": null,
      "outputs": []
    },
    {
      "cell_type": "markdown",
      "source": [
        "##### 1. Why did you pick the specific chart?"
      ],
      "metadata": {
        "id": "fge-S5ZAYoAp"
      }
    },
    {
      "cell_type": "markdown",
      "source": [
        "Answer Here."
      ],
      "metadata": {
        "id": "5dBItgRVYoAp"
      }
    },
    {
      "cell_type": "markdown",
      "source": [
        "##### 2. What is/are the insight(s) found from the chart?"
      ],
      "metadata": {
        "id": "85gYPyotYoAp"
      }
    },
    {
      "cell_type": "markdown",
      "source": [
        "Answer Here"
      ],
      "metadata": {
        "id": "4jstXR6OYoAp"
      }
    },
    {
      "cell_type": "markdown",
      "source": [
        "##### 3. Will the gained insights help creating a positive business impact?\n",
        "Are there any insights that lead to negative growth? Justify with specific reason."
      ],
      "metadata": {
        "id": "RoGjAbkUYoAp"
      }
    },
    {
      "cell_type": "markdown",
      "source": [
        "Answer Here"
      ],
      "metadata": {
        "id": "zfJ8IqMcYoAp"
      }
    },
    {
      "cell_type": "markdown",
      "source": [
        "#### Chart - 4"
      ],
      "metadata": {
        "id": "4Of9eVA-YrdM"
      }
    },
    {
      "cell_type": "code",
      "source": [
        "# Chart - 4 visualization code"
      ],
      "metadata": {
        "id": "irlUoxc8YrdO"
      },
      "execution_count": null,
      "outputs": []
    },
    {
      "cell_type": "markdown",
      "source": [
        "##### 1. Why did you pick the specific chart?"
      ],
      "metadata": {
        "id": "iky9q4vBYrdO"
      }
    },
    {
      "cell_type": "markdown",
      "source": [
        "Answer Here."
      ],
      "metadata": {
        "id": "aJRCwT6DYrdO"
      }
    },
    {
      "cell_type": "markdown",
      "source": [
        "##### 2. What is/are the insight(s) found from the chart?"
      ],
      "metadata": {
        "id": "F6T5p64dYrdO"
      }
    },
    {
      "cell_type": "markdown",
      "source": [
        "Answer Here"
      ],
      "metadata": {
        "id": "Xx8WAJvtYrdO"
      }
    },
    {
      "cell_type": "markdown",
      "source": [
        "##### 3. Will the gained insights help creating a positive business impact?\n",
        "Are there any insights that lead to negative growth? Justify with specific reason."
      ],
      "metadata": {
        "id": "y-Ehk30pYrdP"
      }
    },
    {
      "cell_type": "markdown",
      "source": [
        "Answer Here"
      ],
      "metadata": {
        "id": "jLNxxz7MYrdP"
      }
    },
    {
      "cell_type": "markdown",
      "source": [
        "#### Chart - 5"
      ],
      "metadata": {
        "id": "bamQiAODYuh1"
      }
    },
    {
      "cell_type": "code",
      "source": [
        "# Chart - 5 visualization code"
      ],
      "metadata": {
        "id": "TIJwrbroYuh3"
      },
      "execution_count": null,
      "outputs": []
    },
    {
      "cell_type": "markdown",
      "source": [
        "##### 1. Why did you pick the specific chart?"
      ],
      "metadata": {
        "id": "QHF8YVU7Yuh3"
      }
    },
    {
      "cell_type": "markdown",
      "source": [
        "Answer Here."
      ],
      "metadata": {
        "id": "dcxuIMRPYuh3"
      }
    },
    {
      "cell_type": "markdown",
      "source": [
        "##### 2. What is/are the insight(s) found from the chart?"
      ],
      "metadata": {
        "id": "GwzvFGzlYuh3"
      }
    },
    {
      "cell_type": "markdown",
      "source": [
        "Answer Here"
      ],
      "metadata": {
        "id": "uyqkiB8YYuh3"
      }
    },
    {
      "cell_type": "markdown",
      "source": [
        "##### 3. Will the gained insights help creating a positive business impact?\n",
        "Are there any insights that lead to negative growth? Justify with specific reason."
      ],
      "metadata": {
        "id": "qYpmQ266Yuh3"
      }
    },
    {
      "cell_type": "markdown",
      "source": [
        "Answer Here"
      ],
      "metadata": {
        "id": "_WtzZ_hCYuh4"
      }
    },
    {
      "cell_type": "markdown",
      "source": [
        "#### Chart - 6"
      ],
      "metadata": {
        "id": "OH-pJp9IphqM"
      }
    },
    {
      "cell_type": "code",
      "source": [
        "# Chart - 6 visualization code"
      ],
      "metadata": {
        "id": "kuRf4wtuphqN"
      },
      "execution_count": null,
      "outputs": []
    },
    {
      "cell_type": "markdown",
      "source": [
        "##### 1. Why did you pick the specific chart?"
      ],
      "metadata": {
        "id": "bbFf2-_FphqN"
      }
    },
    {
      "cell_type": "markdown",
      "source": [
        "Answer Here."
      ],
      "metadata": {
        "id": "loh7H2nzphqN"
      }
    },
    {
      "cell_type": "markdown",
      "source": [
        "##### 2. What is/are the insight(s) found from the chart?"
      ],
      "metadata": {
        "id": "_ouA3fa0phqN"
      }
    },
    {
      "cell_type": "markdown",
      "source": [
        "Answer Here"
      ],
      "metadata": {
        "id": "VECbqPI7phqN"
      }
    },
    {
      "cell_type": "markdown",
      "source": [
        "##### 3. Will the gained insights help creating a positive business impact?\n",
        "Are there any insights that lead to negative growth? Justify with specific reason."
      ],
      "metadata": {
        "id": "Seke61FWphqN"
      }
    },
    {
      "cell_type": "markdown",
      "source": [
        "Answer Here"
      ],
      "metadata": {
        "id": "DW4_bGpfphqN"
      }
    },
    {
      "cell_type": "markdown",
      "source": [
        "#### Chart - 7"
      ],
      "metadata": {
        "id": "PIIx-8_IphqN"
      }
    },
    {
      "cell_type": "code",
      "source": [
        "# Chart - 7 visualization code"
      ],
      "metadata": {
        "id": "lqAIGUfyphqO"
      },
      "execution_count": null,
      "outputs": []
    },
    {
      "cell_type": "markdown",
      "source": [
        "##### 1. Why did you pick the specific chart?"
      ],
      "metadata": {
        "id": "t27r6nlMphqO"
      }
    },
    {
      "cell_type": "markdown",
      "source": [
        "Answer Here."
      ],
      "metadata": {
        "id": "iv6ro40sphqO"
      }
    },
    {
      "cell_type": "markdown",
      "source": [
        "##### 2. What is/are the insight(s) found from the chart?"
      ],
      "metadata": {
        "id": "r2jJGEOYphqO"
      }
    },
    {
      "cell_type": "markdown",
      "source": [
        "Answer Here"
      ],
      "metadata": {
        "id": "Po6ZPi4hphqO"
      }
    },
    {
      "cell_type": "markdown",
      "source": [
        "##### 3. Will the gained insights help creating a positive business impact?\n",
        "Are there any insights that lead to negative growth? Justify with specific reason."
      ],
      "metadata": {
        "id": "b0JNsNcRphqO"
      }
    },
    {
      "cell_type": "markdown",
      "source": [
        "Answer Here"
      ],
      "metadata": {
        "id": "xvSq8iUTphqO"
      }
    },
    {
      "cell_type": "markdown",
      "source": [
        "#### Chart - 8"
      ],
      "metadata": {
        "id": "BZR9WyysphqO"
      }
    },
    {
      "cell_type": "code",
      "source": [
        "# Chart - 8 visualization code"
      ],
      "metadata": {
        "id": "TdPTWpAVphqO"
      },
      "execution_count": null,
      "outputs": []
    },
    {
      "cell_type": "markdown",
      "source": [
        "##### 1. Why did you pick the specific chart?"
      ],
      "metadata": {
        "id": "jj7wYXLtphqO"
      }
    },
    {
      "cell_type": "markdown",
      "source": [
        "Answer Here."
      ],
      "metadata": {
        "id": "Ob8u6rCTphqO"
      }
    },
    {
      "cell_type": "markdown",
      "source": [
        "##### 2. What is/are the insight(s) found from the chart?"
      ],
      "metadata": {
        "id": "eZrbJ2SmphqO"
      }
    },
    {
      "cell_type": "markdown",
      "source": [
        "Answer Here"
      ],
      "metadata": {
        "id": "mZtgC_hjphqO"
      }
    },
    {
      "cell_type": "markdown",
      "source": [
        "##### 3. Will the gained insights help creating a positive business impact?\n",
        "Are there any insights that lead to negative growth? Justify with specific reason."
      ],
      "metadata": {
        "id": "rFu4xreNphqO"
      }
    },
    {
      "cell_type": "markdown",
      "source": [
        "Answer Here"
      ],
      "metadata": {
        "id": "ey_0qi68phqO"
      }
    },
    {
      "cell_type": "markdown",
      "source": [
        "#### Chart - 9"
      ],
      "metadata": {
        "id": "YJ55k-q6phqO"
      }
    },
    {
      "cell_type": "code",
      "source": [
        "# Chart - 9 visualization code"
      ],
      "metadata": {
        "id": "B2aS4O1ophqO"
      },
      "execution_count": null,
      "outputs": []
    },
    {
      "cell_type": "markdown",
      "source": [
        "##### 1. Why did you pick the specific chart?"
      ],
      "metadata": {
        "id": "gCFgpxoyphqP"
      }
    },
    {
      "cell_type": "markdown",
      "source": [
        "Answer Here."
      ],
      "metadata": {
        "id": "TVxDimi2phqP"
      }
    },
    {
      "cell_type": "markdown",
      "source": [
        "##### 2. What is/are the insight(s) found from the chart?"
      ],
      "metadata": {
        "id": "OVtJsKN_phqQ"
      }
    },
    {
      "cell_type": "markdown",
      "source": [
        "Answer Here"
      ],
      "metadata": {
        "id": "ngGi97qjphqQ"
      }
    },
    {
      "cell_type": "markdown",
      "source": [
        "##### 3. Will the gained insights help creating a positive business impact?\n",
        "Are there any insights that lead to negative growth? Justify with specific reason."
      ],
      "metadata": {
        "id": "lssrdh5qphqQ"
      }
    },
    {
      "cell_type": "markdown",
      "source": [
        "Answer Here"
      ],
      "metadata": {
        "id": "tBpY5ekJphqQ"
      }
    },
    {
      "cell_type": "markdown",
      "source": [
        "#### Chart - 10"
      ],
      "metadata": {
        "id": "U2RJ9gkRphqQ"
      }
    },
    {
      "cell_type": "code",
      "source": [
        "# Chart - 10 visualization code"
      ],
      "metadata": {
        "id": "GM7a4YP4phqQ"
      },
      "execution_count": null,
      "outputs": []
    },
    {
      "cell_type": "markdown",
      "source": [
        "##### 1. Why did you pick the specific chart?"
      ],
      "metadata": {
        "id": "1M8mcRywphqQ"
      }
    },
    {
      "cell_type": "markdown",
      "source": [
        "Answer Here."
      ],
      "metadata": {
        "id": "8agQvks0phqQ"
      }
    },
    {
      "cell_type": "markdown",
      "source": [
        "##### 2. What is/are the insight(s) found from the chart?"
      ],
      "metadata": {
        "id": "tgIPom80phqQ"
      }
    },
    {
      "cell_type": "markdown",
      "source": [
        "Answer Here"
      ],
      "metadata": {
        "id": "Qp13pnNzphqQ"
      }
    },
    {
      "cell_type": "markdown",
      "source": [
        "##### 3. Will the gained insights help creating a positive business impact?\n",
        "Are there any insights that lead to negative growth? Justify with specific reason."
      ],
      "metadata": {
        "id": "JMzcOPDDphqR"
      }
    },
    {
      "cell_type": "markdown",
      "source": [
        "Answer Here"
      ],
      "metadata": {
        "id": "R4Ka1PC2phqR"
      }
    },
    {
      "cell_type": "markdown",
      "source": [
        "#### Chart - 11"
      ],
      "metadata": {
        "id": "x-EpHcCOp1ci"
      }
    },
    {
      "cell_type": "code",
      "source": [
        "# Chart - 11 visualization code"
      ],
      "metadata": {
        "id": "mAQTIvtqp1cj"
      },
      "execution_count": null,
      "outputs": []
    },
    {
      "cell_type": "markdown",
      "source": [
        "##### 1. Why did you pick the specific chart?"
      ],
      "metadata": {
        "id": "X_VqEhTip1ck"
      }
    },
    {
      "cell_type": "markdown",
      "source": [
        "Answer Here."
      ],
      "metadata": {
        "id": "-vsMzt_np1ck"
      }
    },
    {
      "cell_type": "markdown",
      "source": [
        "##### 2. What is/are the insight(s) found from the chart?"
      ],
      "metadata": {
        "id": "8zGJKyg5p1ck"
      }
    },
    {
      "cell_type": "markdown",
      "source": [
        "Answer Here"
      ],
      "metadata": {
        "id": "ZYdMsrqVp1ck"
      }
    },
    {
      "cell_type": "markdown",
      "source": [
        "##### 3. Will the gained insights help creating a positive business impact?\n",
        "Are there any insights that lead to negative growth? Justify with specific reason."
      ],
      "metadata": {
        "id": "PVzmfK_Ep1ck"
      }
    },
    {
      "cell_type": "markdown",
      "source": [
        "Answer Here"
      ],
      "metadata": {
        "id": "druuKYZpp1ck"
      }
    },
    {
      "cell_type": "markdown",
      "source": [
        "#### Chart - 12"
      ],
      "metadata": {
        "id": "n3dbpmDWp1ck"
      }
    },
    {
      "cell_type": "code",
      "source": [
        "# Chart - 12 visualization code"
      ],
      "metadata": {
        "id": "bwevp1tKp1ck"
      },
      "execution_count": null,
      "outputs": []
    },
    {
      "cell_type": "markdown",
      "source": [
        "##### 1. Why did you pick the specific chart?"
      ],
      "metadata": {
        "id": "ylSl6qgtp1ck"
      }
    },
    {
      "cell_type": "markdown",
      "source": [
        "Answer Here."
      ],
      "metadata": {
        "id": "m2xqNkiQp1ck"
      }
    },
    {
      "cell_type": "markdown",
      "source": [
        "##### 2. What is/are the insight(s) found from the chart?"
      ],
      "metadata": {
        "id": "ZWILFDl5p1ck"
      }
    },
    {
      "cell_type": "markdown",
      "source": [
        "Answer Here"
      ],
      "metadata": {
        "id": "x-lUsV2mp1ck"
      }
    },
    {
      "cell_type": "markdown",
      "source": [
        "##### 3. Will the gained insights help creating a positive business impact?\n",
        "Are there any insights that lead to negative growth? Justify with specific reason."
      ],
      "metadata": {
        "id": "M7G43BXep1ck"
      }
    },
    {
      "cell_type": "markdown",
      "source": [
        "Answer Here"
      ],
      "metadata": {
        "id": "5wwDJXsLp1cl"
      }
    },
    {
      "cell_type": "markdown",
      "source": [
        "#### Chart - 13"
      ],
      "metadata": {
        "id": "Ag9LCva-p1cl"
      }
    },
    {
      "cell_type": "code",
      "source": [
        "# Chart - 13 visualization code"
      ],
      "metadata": {
        "id": "EUfxeq9-p1cl"
      },
      "execution_count": null,
      "outputs": []
    },
    {
      "cell_type": "markdown",
      "source": [
        "##### 1. Why did you pick the specific chart?"
      ],
      "metadata": {
        "id": "E6MkPsBcp1cl"
      }
    },
    {
      "cell_type": "markdown",
      "source": [
        "Answer Here."
      ],
      "metadata": {
        "id": "V22bRsFWp1cl"
      }
    },
    {
      "cell_type": "markdown",
      "source": [
        "##### 2. What is/are the insight(s) found from the chart?"
      ],
      "metadata": {
        "id": "2cELzS2fp1cl"
      }
    },
    {
      "cell_type": "markdown",
      "source": [
        "Answer Here"
      ],
      "metadata": {
        "id": "ozQPc2_Ip1cl"
      }
    },
    {
      "cell_type": "markdown",
      "source": [
        "##### 3. Will the gained insights help creating a positive business impact?\n",
        "Are there any insights that lead to negative growth? Justify with specific reason."
      ],
      "metadata": {
        "id": "3MPXvC8up1cl"
      }
    },
    {
      "cell_type": "markdown",
      "source": [
        "Answer Here"
      ],
      "metadata": {
        "id": "GL8l1tdLp1cl"
      }
    },
    {
      "cell_type": "markdown",
      "source": [
        "#### Chart - 14 - Correlation Heatmap"
      ],
      "metadata": {
        "id": "NC_X3p0fY2L0"
      }
    },
    {
      "cell_type": "code",
      "source": [
        "# Correlation Heatmap visualization code"
      ],
      "metadata": {
        "id": "xyC9zolEZNRQ"
      },
      "execution_count": null,
      "outputs": []
    },
    {
      "cell_type": "markdown",
      "source": [
        "##### 1. Why did you pick the specific chart?"
      ],
      "metadata": {
        "id": "UV0SzAkaZNRQ"
      }
    },
    {
      "cell_type": "markdown",
      "source": [
        "Answer Here."
      ],
      "metadata": {
        "id": "DVPuT8LYZNRQ"
      }
    },
    {
      "cell_type": "markdown",
      "source": [
        "##### 2. What is/are the insight(s) found from the chart?"
      ],
      "metadata": {
        "id": "YPEH6qLeZNRQ"
      }
    },
    {
      "cell_type": "markdown",
      "source": [
        "Answer Here"
      ],
      "metadata": {
        "id": "bfSqtnDqZNRR"
      }
    },
    {
      "cell_type": "markdown",
      "source": [
        "#### Chart - 15 - Pair Plot"
      ],
      "metadata": {
        "id": "q29F0dvdveiT"
      }
    },
    {
      "cell_type": "code",
      "source": [
        "# Pair Plot visualization code"
      ],
      "metadata": {
        "id": "o58-TEIhveiU"
      },
      "execution_count": null,
      "outputs": []
    },
    {
      "cell_type": "markdown",
      "source": [
        "##### 1. Why did you pick the specific chart?"
      ],
      "metadata": {
        "id": "EXh0U9oCveiU"
      }
    },
    {
      "cell_type": "markdown",
      "source": [
        "Answer Here."
      ],
      "metadata": {
        "id": "eMmPjTByveiU"
      }
    },
    {
      "cell_type": "markdown",
      "source": [
        "##### 2. What is/are the insight(s) found from the chart?"
      ],
      "metadata": {
        "id": "22aHeOlLveiV"
      }
    },
    {
      "cell_type": "markdown",
      "source": [
        "Answer Here"
      ],
      "metadata": {
        "id": "uPQ8RGwHveiV"
      }
    },
    {
      "cell_type": "markdown",
      "source": [
        "## **5. Solution to Business Objective**"
      ],
      "metadata": {
        "id": "JcMwzZxoAimU"
      }
    },
    {
      "cell_type": "markdown",
      "source": [
        "#### What do you suggest the client to achieve Business Objective ?\n",
        "Explain Briefly."
      ],
      "metadata": {
        "id": "8G2x9gOozGDZ"
      }
    },
    {
      "cell_type": "markdown",
      "source": [
        "Answer Here."
      ],
      "metadata": {
        "id": "pASKb0qOza21"
      }
    },
    {
      "cell_type": "markdown",
      "source": [
        "# **Conclusion**"
      ],
      "metadata": {
        "id": "gCX9965dhzqZ"
      }
    },
    {
      "cell_type": "markdown",
      "source": [
        "Write the conclusion here."
      ],
      "metadata": {
        "id": "Fjb1IsQkh3yE"
      }
    },
    {
      "cell_type": "markdown",
      "source": [
        "### ***Hurrah! You have successfully completed your EDA Capstone Project !!!***"
      ],
      "metadata": {
        "id": "gIfDvo9L0UH2"
      }
    }
  ]
}