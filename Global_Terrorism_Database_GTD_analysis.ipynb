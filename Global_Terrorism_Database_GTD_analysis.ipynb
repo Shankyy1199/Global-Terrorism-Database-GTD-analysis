{
  "nbformat": 4,
  "nbformat_minor": 0,
  "metadata": {
    "colab": {
      "private_outputs": true,
      "provenance": [],
      "collapsed_sections": [
        "vncDsAP0Gaoa",
        "FJNUwmbgGyua",
        "w6K7xa23Elo4",
        "yQaldy8SH6Dl",
        "PH-0ReGfmX4f",
        "mDgbUHAGgjLW",
        "O_i_v8NEhb9l",
        "HhfV-JJviCcP",
        "Y3lxredqlCYt",
        "3RnN4peoiCZX",
        "x71ZqKXriCWQ",
        "7hBIi_osiCS2",
        "JlHwYmJAmNHm",
        "35m5QtbWiB9F",
        "PoPl-ycgm1ru",
        "H0kj-8xxnORC",
        "nA9Y7ga8ng1Z",
        "PBTbrJXOngz2",
        "u3PMJOP6ngxN",
        "dauF4eBmngu3",
        "bKJF3rekwFvQ",
        "MSa1f5Uengrz",
        "GF8Ens_Soomf",
        "0wOQAZs5pc--",
        "K5QZ13OEpz2H",
        "lQ7QKXXCp7Bj",
        "448CDAPjqfQr",
        "KSlN3yHqYklG",
        "t6dVpIINYklI",
        "ijmpgYnKYklI",
        "-JiQyfWJYklI",
        "EM7whBJCYoAo",
        "fge-S5ZAYoAp",
        "85gYPyotYoAp",
        "RoGjAbkUYoAp",
        "4Of9eVA-YrdM",
        "iky9q4vBYrdO",
        "F6T5p64dYrdO",
        "y-Ehk30pYrdP",
        "bamQiAODYuh1",
        "QHF8YVU7Yuh3",
        "GwzvFGzlYuh3",
        "qYpmQ266Yuh3",
        "OH-pJp9IphqM",
        "bbFf2-_FphqN",
        "_ouA3fa0phqN",
        "Seke61FWphqN",
        "PIIx-8_IphqN",
        "t27r6nlMphqO",
        "r2jJGEOYphqO",
        "b0JNsNcRphqO",
        "BZR9WyysphqO",
        "jj7wYXLtphqO",
        "eZrbJ2SmphqO",
        "rFu4xreNphqO",
        "YJ55k-q6phqO",
        "gCFgpxoyphqP",
        "OVtJsKN_phqQ",
        "lssrdh5qphqQ",
        "U2RJ9gkRphqQ",
        "1M8mcRywphqQ",
        "tgIPom80phqQ",
        "JMzcOPDDphqR",
        "x-EpHcCOp1ci",
        "X_VqEhTip1ck",
        "8zGJKyg5p1ck",
        "PVzmfK_Ep1ck",
        "n3dbpmDWp1ck",
        "ylSl6qgtp1ck",
        "ZWILFDl5p1ck",
        "M7G43BXep1ck",
        "Ag9LCva-p1cl",
        "E6MkPsBcp1cl",
        "2cELzS2fp1cl",
        "3MPXvC8up1cl",
        "NC_X3p0fY2L0",
        "UV0SzAkaZNRQ",
        "YPEH6qLeZNRQ",
        "q29F0dvdveiT",
        "EXh0U9oCveiU",
        "22aHeOlLveiV",
        "JcMwzZxoAimU",
        "8G2x9gOozGDZ",
        "gCX9965dhzqZ",
        "gIfDvo9L0UH2"
      ],
      "include_colab_link": true
    },
    "kernelspec": {
      "name": "python3",
      "display_name": "Python 3"
    },
    "language_info": {
      "name": "python"
    }
  },
  "cells": [
    {
      "cell_type": "markdown",
      "metadata": {
        "id": "view-in-github",
        "colab_type": "text"
      },
      "source": [
        "<a href=\"https://colab.research.google.com/github/Shankyy1199/Global-Terrorism-Database-GTD-analysis/blob/main/Global_Terrorism_Database_GTD_analysis.ipynb\" target=\"_parent\"><img src=\"https://colab.research.google.com/assets/colab-badge.svg\" alt=\"Open In Colab\"/></a>"
      ]
    },
    {
      "cell_type": "markdown",
      "source": [
        "# **Project Name**    - **Global_Terrorism_Database_GTD_analysis**\n",
        "\n"
      ],
      "metadata": {
        "id": "vncDsAP0Gaoa"
      }
    },
    {
      "cell_type": "markdown",
      "source": [
        "##### **Project Type**    - EDA\n",
        "##### **Contribution**    - Team\n",
        "##### **Team Member 1 -** Shashank Chavan (stchavan7038@gmail.com)\n",
        "##### **Team Member 2 -** Anshu Kumar Goswami (anshukumargoswami22@gmail.com)\n"
      ],
      "metadata": {
        "id": "beRrZCGUAJYm"
      }
    },
    {
      "cell_type": "markdown",
      "source": [
        "# **Project Summary -**"
      ],
      "metadata": {
        "id": "FJNUwmbgGyua"
      }
    },
    {
      "cell_type": "markdown",
      "source": [
        "The Data set on the Global terrorism database was the first choice of both of us. There are two people Shashank and I (Anshu) in the team. The data was relevant in the sense that as soon as we saw the columns we could visualize the questions that needed to be answered. As this terrorism agenda is always in the news both nationally and internationally, there was no hesitation whatsoever and we were pretty comfortable and sure with our choice of project. Both of us were equally fascinated by the nature  of attack and the type of attack, as both love spy thrillers. The dataset was pretty simple and contained some null values that had to be filtered out.  \n",
        "The dataset contained 181691 rows and 135 columns. Out of these 17 columns were selected, based on the requirements of the questions to be answered. There was no duplicated data present in these 17 columns.\n",
        "From the filtered dataset we had to frame the questions and answer those questions based on the finding from the dataset. The questions that we choose started from the general questions pertaining to global data and then narrowing down to the specific most terror prone region. The insights from these regions were taken up that can be helpful for the security agencies in planning risk and crisis management. We began with the first general graph that plots the world wise year wise attack that gave us a broad overview of the region wise and year wise attack. The next question pertained to the top ten regions considering the terror attacks. Then we picked up questions such as the most frequent type of attack , the most common weapon used in the attack. Which terror group was most active during this time was the next question. Then we shifted our focus to various countries from different regions which are attacked the most in this period. We then shifted our focus to the two nations from the two regions that were targeted frequently by the terror groups. From the Middle East and Northern Africa region, Iraq was chosen and from South Asian region Pakistan was chosen. And further data exploration was done on them.\n"
      ],
      "metadata": {
        "id": "F6v_1wHtG2nS"
      }
    },
    {
      "cell_type": "markdown",
      "source": [
        "# **GitHub Link -**"
      ],
      "metadata": {
        "id": "w6K7xa23Elo4"
      }
    },
    {
      "cell_type": "markdown",
      "source": [
        "Provide your GitHub Link here."
      ],
      "metadata": {
        "id": "h1o69JH3Eqqn"
      }
    },
    {
      "cell_type": "markdown",
      "source": [
        "# **Problem Statement**\n"
      ],
      "metadata": {
        "id": "yQaldy8SH6Dl"
      }
    },
    {
      "cell_type": "markdown",
      "source": [
        "**The global issue of terrorism has seen a significant shift in the attack pattern. With the advancement in technology and weaponry, there has been a paradigm shift in the way terror groups have planned attacks and weapons of attack. What if we wanted to know the recent trends in the nature of attack, as the type of weapon and the common targets of these groups? What are the major terrorist groups in a particular region? Which terror group has been most deadly in recent years and what are its modus operandi for the attacks? The global terrorism database provides us with data that records terror activities from the year and various other aspects such as the region, the year of the attack, the nature of the attack, the type of weapon used, the country affected, the group that claimed the attack, the type of target, and the total fatalities in the attack and many more. Explore and analyze data to discover key findings pertaining to terrorist activities to Improve understanding and mitigation of terrorism trends and patterns.\n",
        "These data are of profound importance to the global community and international agencies in planning major global events and perceiving the threat that looms in their native country from these terror groups.**"
      ],
      "metadata": {
        "id": "DpeJGUA3kjGy"
      }
    },
    {
      "cell_type": "markdown",
      "source": [
        "#### **Define Your Business Objective?**"
      ],
      "metadata": {
        "id": "PH-0ReGfmX4f"
      }
    },
    {
      "cell_type": "markdown",
      "source": [
        "**Security Consulting:** Provide security consulting services to businesses operating in the Middle East, North Africa, and South Asia regions. This could involve assessing the security risks and vulnerabilities faced by businesses in these areas, recommending appropriate security measures, and assisting in the implementation of security protocols to mitigate the risks of terrorist attacks.\n",
        "\n",
        "**Risk Management:** Develop comprehensive risk management strategies for businesses operating in high-risk areas, focusing on the threat of terrorism. This could include conducting threat assessments, designing risk mitigation plans, and advising on crisis management and emergency response procedures.\n",
        "\n",
        "**Security Training**: Offer specialized training programs to security personnel and employees of organizations operating in regions prone to terrorist attacks. This training could cover topics such as recognizing suspicious activities, handling bomb threats, emergency evacuation procedures, and providing first aid in the event of an attack.\n",
        "\n",
        "**Crisis Response Services:** Establish a crisis response team capable of rapidly deploying to affected areas in the aftermath of a terrorist attack. This team could assist businesses in assessing damage, managing the immediate aftermath, and implementing recovery plans to restore operations as quickly as possible.\n",
        "\n",
        "Intelligence and Information Sharing: Develop a platform or service that gathers and disseminates up-to-date intelligence on terrorist activities, trends, and threats specific to the Middle East, North Africa, and South Asia regions. This information can help businesses stay informed and make informed decisions regarding their security measures and operational strategies.\n",
        "\n",
        "Collaboration with Security Agencies: Foster partnerships and collaboration with local and international security agencies to exchange information, share best practices, and coordinate efforts to combat terrorism in the regions. This collaboration can enhance the effectiveness of security measures and contribute to a safer operating environment for businesses.\n",
        "\n",
        "Risk Insurance Solutions: Work with insurance providers to develop specialized risk insurance solutions tailored to the needs of businesses operating in high-risk areas. These insurance policies can provide financial protection and support in the event of a terrorist attack, helping businesses recover and rebuild after such incidents.\n",
        "\n",
        "It's important to note that developing and implementing these business objectives would require a thorough understanding of the local regulations, cultural sensitivities, and geopolitical dynamics in each specific region. Collaboration with local partners and subject matter experts would be crucial to ensuring the effectiveness and relevance of the proposed solutions."
      ],
      "metadata": {
        "id": "PhDvGCAqmjP1"
      }
    },
    {
      "cell_type": "markdown",
      "source": [
        "# **General Guidelines** : -  "
      ],
      "metadata": {
        "id": "mDgbUHAGgjLW"
      }
    },
    {
      "cell_type": "markdown",
      "source": [
        "1.   Well-structured, formatted, and commented code is required.\n",
        "2.   Exception Handling, Production Grade Code & Deployment Ready Code will be a plus. Those students will be awarded some additional credits.\n",
        "     \n",
        "     The additional credits will have advantages over other students during Star Student selection.\n",
        "       \n",
        "             [ Note: - Deployment Ready Code is defined as, the whole .ipynb notebook should be executable in one go\n",
        "                       without a single error logged. ]\n",
        "\n",
        "3.   Each and every logic should have proper comments.\n",
        "4. You may add as many number of charts you want. Make Sure for each and every chart the following format should be answered.\n",
        "        \n",
        "\n",
        "```\n",
        "# Chart visualization code\n",
        "```\n",
        "            \n",
        "\n",
        "*   Why did you pick the specific chart?\n",
        "*   What is/are the insight(s) found from the chart?\n",
        "* Will the gained insights help creating a positive business impact?\n",
        "Are there any insights that lead to negative growth? Justify with specific reason.\n",
        "\n",
        "5. You have to create at least 20 logical & meaningful charts having important insights.\n",
        "\n",
        "\n",
        "[ Hints : - Do the Vizualization in  a structured way while following \"UBM\" Rule.\n",
        "\n",
        "U - Univariate Analysis,\n",
        "\n",
        "B - Bivariate Analysis (Numerical - Categorical, Numerical - Numerical, Categorical - Categorical)\n",
        "\n",
        "M - Multivariate Analysis\n",
        " ]\n",
        "\n",
        "\n",
        "\n"
      ],
      "metadata": {
        "id": "ZrxVaUj-hHfC"
      }
    },
    {
      "cell_type": "markdown",
      "source": [
        "# ***Let's Begin !***"
      ],
      "metadata": {
        "id": "O_i_v8NEhb9l"
      }
    },
    {
      "cell_type": "markdown",
      "source": [
        "## ***1. Know Your Data***"
      ],
      "metadata": {
        "id": "HhfV-JJviCcP"
      }
    },
    {
      "cell_type": "markdown",
      "source": [
        "### Import Libraries"
      ],
      "metadata": {
        "id": "Y3lxredqlCYt"
      }
    },
    {
      "cell_type": "code",
      "source": [
        "# Import Libraries\n",
        "import numpy as np\n",
        "import pandas as pd\n",
        "import matplotlib\n",
        "import matplotlib.pyplot as plt\n",
        "import seaborn as sns\n",
        "%matplotlib inline\n",
        "\n"
      ],
      "metadata": {
        "id": "3FQQfaUOr0GR"
      },
      "execution_count": null,
      "outputs": []
    },
    {
      "cell_type": "markdown",
      "source": [
        "### Dataset Loading"
      ],
      "metadata": {
        "id": "3RnN4peoiCZX"
      }
    },
    {
      "cell_type": "code",
      "source": [
        "from google.colab import drive\n",
        "drive.mount('/content/drive')"
      ],
      "metadata": {
        "id": "t7l8Uq9OsZAN"
      },
      "execution_count": null,
      "outputs": []
    },
    {
      "cell_type": "code",
      "source": [
        "# Load Dataset\n",
        "df = pd.read_csv('/content/drive/MyDrive/Cohort Venice/EDA project/Global Terrorism Data (1).csv', encoding = ('ISO-8859-1'), low_memory=False)"
      ],
      "metadata": {
        "id": "4CkvbW_SlZ_R"
      },
      "execution_count": null,
      "outputs": []
    },
    {
      "cell_type": "markdown",
      "source": [
        "### Dataset First View"
      ],
      "metadata": {
        "id": "x71ZqKXriCWQ"
      }
    },
    {
      "cell_type": "code",
      "source": [
        "# Dataset First Look\n",
        "df.head()"
      ],
      "metadata": {
        "id": "LWNFOSvLl09H"
      },
      "execution_count": null,
      "outputs": []
    },
    {
      "cell_type": "code",
      "source": [
        "df.tail()"
      ],
      "metadata": {
        "id": "Tw242JfSBPDi"
      },
      "execution_count": null,
      "outputs": []
    },
    {
      "cell_type": "markdown",
      "source": [
        "### Dataset Rows & Columns count"
      ],
      "metadata": {
        "id": "7hBIi_osiCS2"
      }
    },
    {
      "cell_type": "code",
      "source": [
        "# Dataset Rows & Columns count\n",
        "df.shape"
      ],
      "metadata": {
        "id": "Kllu7SJgmLij"
      },
      "execution_count": null,
      "outputs": []
    },
    {
      "cell_type": "markdown",
      "source": [
        "### Dataset Information"
      ],
      "metadata": {
        "id": "JlHwYmJAmNHm"
      }
    },
    {
      "cell_type": "code",
      "source": [
        "# Dataset Info\n",
        "df.info()"
      ],
      "metadata": {
        "id": "e9hRXRi6meOf"
      },
      "execution_count": null,
      "outputs": []
    },
    {
      "cell_type": "code",
      "source": [
        "df.describe().T"
      ],
      "metadata": {
        "id": "d3OIafI3B2Os"
      },
      "execution_count": null,
      "outputs": []
    },
    {
      "cell_type": "markdown",
      "source": [
        "# **Let us create a new dataset with the columns we want to work upon**"
      ],
      "metadata": {
        "id": "twLZSaosmwCL"
      }
    },
    {
      "cell_type": "code",
      "source": [
        "#select the relevent coiumns from dataset\n",
        "df_new = df[['eventid','iyear','imonth','iday','country_txt','region_txt','city','multiple', 'success','attacktype1_txt','targtype1_txt','nkill','weapdetail','nwound', 'claimed','gname','provstate']].copy()"
      ],
      "metadata": {
        "id": "7_2HxVnlmWHa"
      },
      "execution_count": null,
      "outputs": []
    },
    {
      "cell_type": "code",
      "source": [
        "#Rename columns for easier handling\n",
        "df_new.rename(columns={'eventid':'id','iyear':'year','imonth':'month','iday':'day','country_txt':'country','region_txt':'region','attacktype1_txt':'attack_type','targtype1_txt':'target_type','nkill':'fatalities','weapdetail':'weapon_detail','nwound':'wounded','gname':'perpetrator'}, inplace = True)"
      ],
      "metadata": {
        "id": "frBZQMgRnMpV"
      },
      "execution_count": null,
      "outputs": []
    },
    {
      "cell_type": "code",
      "source": [
        "df_new.head(5)"
      ],
      "metadata": {
        "id": "R8hoQcD1zSLY"
      },
      "execution_count": null,
      "outputs": []
    },
    {
      "cell_type": "code",
      "source": [
        "df_new.info()"
      ],
      "metadata": {
        "id": "JCcknxRA0y7g"
      },
      "execution_count": null,
      "outputs": []
    },
    {
      "cell_type": "markdown",
      "source": [
        "#### Duplicate Values"
      ],
      "metadata": {
        "id": "35m5QtbWiB9F"
      }
    },
    {
      "cell_type": "code",
      "source": [
        "# Dataset Duplicate Value Count\n",
        "len(df_new[df_new.duplicated()])"
      ],
      "metadata": {
        "id": "1sLdpKYkmox0"
      },
      "execution_count": null,
      "outputs": []
    },
    {
      "cell_type": "markdown",
      "source": [
        "#### Missing Values/Null Values"
      ],
      "metadata": {
        "id": "PoPl-ycgm1ru"
      }
    },
    {
      "cell_type": "code",
      "source": [
        "# Missing Values/Null Values Count\n",
        "df_new.isnull().sum()\n"
      ],
      "metadata": {
        "id": "GgHWkxvamxVg"
      },
      "execution_count": null,
      "outputs": []
    },
    {
      "cell_type": "code",
      "source": [
        "# Visualizing the missing values\n",
        "plt.rcParams['figure.figsize']=(10,6)\n",
        "sns.heatmap(df_new.isnull().T, cbar=False)"
      ],
      "metadata": {
        "id": "-4K4sguXUbA2"
      },
      "execution_count": null,
      "outputs": []
    },
    {
      "cell_type": "markdown",
      "source": [
        "### What did you know about your dataset?"
      ],
      "metadata": {
        "id": "H0kj-8xxnORC"
      }
    },
    {
      "cell_type": "markdown",
      "source": [
        "### In the raw data set the number of rows are 181691 and columns are 135, we are going consider 17 columns out of 135 for further data manupulation and visualization. In this 17 columns duplicated data is not present and column named city, fatalities, weapon detail, wounded, claimed, provstate contains some null values.  "
      ],
      "metadata": {
        "id": "gfoNAAC-nUe_"
      }
    },
    {
      "cell_type": "markdown",
      "source": [
        "## ***2. Understanding Your Variables***"
      ],
      "metadata": {
        "id": "nA9Y7ga8ng1Z"
      }
    },
    {
      "cell_type": "code",
      "source": [
        "# Dataset Columns\n",
        "df_new.columns"
      ],
      "metadata": {
        "id": "j7xfkqrt5Ag5"
      },
      "execution_count": null,
      "outputs": []
    },
    {
      "cell_type": "code",
      "source": [
        "# Dataset Describe\n",
        "df_new.describe(include='all')"
      ],
      "metadata": {
        "id": "DnOaZdaE5Q5t"
      },
      "execution_count": null,
      "outputs": []
    },
    {
      "cell_type": "markdown",
      "source": [
        "### Variables Description"
      ],
      "metadata": {
        "id": "PBTbrJXOngz2"
      }
    },
    {
      "cell_type": "markdown",
      "source": [
        "\n",
        "\n",
        "*   ID - A 12 digit event ID or code.\n",
        "*   YEAR - This field contains the year in which the incident occurred.\n",
        "*   MONTH - This field contains the number of the month in which the incident occurred.\n",
        "*   DAY - This field contains the numeric day of the month on which the incident occurred.\n",
        "*  COUNTRY - This field identifies the country or location where the incident occurred.\n",
        "*   REGION - This field identifies the region in which the incident occurred.\n",
        "*   CITY - This field contains the name of the city, village, or town in which the incident occurred.\n",
        "*   MULTIPLE -  Catagorical variable conatins those cases where several attacks are connected, but where the various actions do not constitute a single incident\n",
        "*   SUCCESS - Catagorical variable for the successful incident.\n",
        "*   ATTACK_TYPE - This field captures the general method of attack and often reflects the broad class of tactics used.\n",
        "*  TARGET_TYPE - The target/victim type field captures the general type of target/victim.\n",
        "*   FATALITIES - This field stores the number of total confirmed fatalities for the incident.\n",
        "*   WEAPON_DETAIL - Information on up to four types and sub-types of the weapons used in an attack are recorded for each case, in addition to any information on specific weapon details reported.\n",
        "*   WOUNDED - This field records the number of confirmed non-fatal injuries to both perpetrators and victims.\n",
        "*  CLAIMED - This field is used to indicate whether a group or person(s) claimed responsibility for the attack.\n",
        "*   PERPETRATOR - This field contains the name of the group that carried out the attack.\n",
        "*   PROSTATE -  This variable records the name (at the time of event) of the 1st order subnational administrative region in which the event occurs.\n",
        "\n",
        "\n",
        "\n",
        "\n",
        "\n",
        "\n",
        "\n",
        "\n",
        "\n",
        "\n"
      ],
      "metadata": {
        "id": "aJV4KIxSnxay"
      }
    },
    {
      "cell_type": "markdown",
      "source": [
        "### Check Unique Values for each variable."
      ],
      "metadata": {
        "id": "u3PMJOP6ngxN"
      }
    },
    {
      "cell_type": "code",
      "source": [
        "# Check Unique Values for each variable.\n",
        "for i in df_new.columns.tolist():\n",
        "  print(\"No. of unique values in \",i,\"is\",df_new[i].nunique(),\".\")"
      ],
      "metadata": {
        "id": "zms12Yq5n-jE"
      },
      "execution_count": null,
      "outputs": []
    },
    {
      "cell_type": "markdown",
      "source": [
        "## 3. ***Data Wrangling***"
      ],
      "metadata": {
        "id": "dauF4eBmngu3"
      }
    },
    {
      "cell_type": "markdown",
      "source": [
        "### Data Wrangling Code"
      ],
      "metadata": {
        "id": "bKJF3rekwFvQ"
      }
    },
    {
      "cell_type": "markdown",
      "source": [
        "### What all manipulations have you done and insights you found?"
      ],
      "metadata": {
        "id": "Z0IWZnnyV0US"
      }
    },
    {
      "cell_type": "markdown",
      "source": [
        "1: Removing duplicate rows if any.\\\n",
        "2: Handling missing values.\\\n",
        "3: Converting columns to appropriate datatypes.\n"
      ],
      "metadata": {
        "id": "5ouGJWY5VqVY"
      }
    },
    {
      "cell_type": "code",
      "source": [
        "# Write your code to make your dataset analysis ready.\n",
        "df1 = df_new.copy()"
      ],
      "metadata": {
        "id": "wk-9a2fpoLcV"
      },
      "execution_count": null,
      "outputs": []
    },
    {
      "cell_type": "markdown",
      "source": [
        "### <b> Step 1: Removing duplicate rows if any </b>"
      ],
      "metadata": {
        "id": "TF50OqTEWEbw"
      }
    },
    {
      "cell_type": "markdown",
      "source": [
        "There is no duplicate data as we check earlier"
      ],
      "metadata": {
        "id": "IvlxAC-MWQuc"
      }
    },
    {
      "cell_type": "markdown",
      "source": [
        "### <b> Step2: Handling missing values. </b>"
      ],
      "metadata": {
        "id": "ldPHXHQgWoxr"
      }
    },
    {
      "cell_type": "markdown",
      "source": [
        "We will deal with missing values as and when it required."
      ],
      "metadata": {
        "id": "uziy5G-yXTdY"
      }
    },
    {
      "cell_type": "markdown",
      "source": [
        "### <b> Step 3: Converting columns to appropriate datatypes. </b>"
      ],
      "metadata": {
        "id": "iIFpUnzfZybK"
      }
    },
    {
      "cell_type": "code",
      "source": [
        "df_new.dtypes"
      ],
      "metadata": {
        "id": "CyQBHbY-Y0ka"
      },
      "execution_count": null,
      "outputs": []
    },
    {
      "cell_type": "markdown",
      "source": [
        "All the columns are in appropriate datatypes, so there is no need to change."
      ],
      "metadata": {
        "id": "DzB7J8GoZ4mQ"
      }
    },
    {
      "cell_type": "markdown",
      "source": [
        "## ***4. Data Vizualization, Storytelling & Experimenting with charts : Understand the relationships between variables***"
      ],
      "metadata": {
        "id": "I_znJyk0e6-W"
      }
    },
    {
      "cell_type": "markdown",
      "source": [
        "# **Chart - 1. How many year-wise attacks are happened in different regions of the world?**"
      ],
      "metadata": {
        "id": "K0KMDGVv3xgk"
      }
    },
    {
      "cell_type": "code",
      "source": [
        "#Data Wrangling\n",
        "#Year-wise attacks are counted in the diffrent regions of the world\n",
        "worldwide_year_wise_attacks = df1.groupby(['year', 'region'])\\\n",
        ".agg({'id':'count'}).rename(columns={'id':'No_of_attacks'})\\\n",
        ".reset_index()\n",
        "worldwide_year_wise_attacks"
      ],
      "metadata": {
        "id": "-xYU6Jhb36_C"
      },
      "execution_count": null,
      "outputs": []
    },
    {
      "cell_type": "code",
      "source": [
        "#Line plot shows the number of attacks from year to year in different regions of the world\n",
        "plt.rcParams['figure.figsize']=(15,7)\n",
        "sns.set(font_scale=1.3)\n",
        "sns.set_style('ticks')\n",
        "ax=sns.lineplot(data=worldwide_year_wise_attacks, x='year', y='No_of_attacks', hue ='region')\n",
        "ax.set_title('Worldwide year-wise attacks',fontsize=20,fontweight='bold')\n",
        "ax.set_xlabel('Years',fontsize=15)\n",
        "ax.set_ylabel('Number of Attacks',fontsize=15)"
      ],
      "metadata": {
        "id": "szf3hMGe6diw"
      },
      "execution_count": null,
      "outputs": []
    },
    {
      "cell_type": "markdown",
      "source": [
        "##### 1. Why did you pick the specific chart?"
      ],
      "metadata": {
        "id": "VKsqHLtcvPDx"
      }
    },
    {
      "cell_type": "markdown",
      "source": [
        "As it is trivarient analysis i.e. three variables are involved, line plot shows the clear picture of tends the data follows."
      ],
      "metadata": {
        "id": "rvAzYwXhvPEQ"
      }
    },
    {
      "cell_type": "markdown",
      "source": [
        "##### 2. What is/are the insight(s) found from the chart?"
      ],
      "metadata": {
        "id": "P_g3SfzgvPER"
      }
    },
    {
      "cell_type": "markdown",
      "source": [
        "Most number of attacks are planed and executed in the region Middle East and North Africa, South Asia, Sub-Sahara Africa and South America. From line plot it is evidant that after year 2000 the freqency of attacks are increased drastically especially in Middle East and North Africa and south asia.\n"
      ],
      "metadata": {
        "id": "c_eYj2WpvPES"
      }
    },
    {
      "cell_type": "markdown",
      "source": [
        "##### 3. Will the gained insights help creating a positive business impact?\n",
        "Are there any insights that lead to negative growth? Justify with specific reason."
      ],
      "metadata": {
        "id": "R_IPgZHjvPES"
      }
    },
    {
      "cell_type": "markdown",
      "source": [
        "Insights from above graph make us think about the possible reasons of increase in attacks after year 2000. Working on those reasons will definitely help us to tackle the terrorist activities.    "
      ],
      "metadata": {
        "id": "vXwXIJEzNtUh"
      }
    },
    {
      "cell_type": "markdown",
      "source": [
        "# **Chart - 2. What are the total number of region-wise attacks happened from year 1970-2017**"
      ],
      "metadata": {
        "id": "SiFgkoP1M0M-"
      }
    },
    {
      "cell_type": "code",
      "source": [
        "#Data Wrangling\n",
        "# Checking for the top 10 regions with the most number of attacks\n",
        "df_region = df1[['region']].copy()\n",
        "region_wise_attacks = df_region.groupby('region').agg({'region' : 'count'})\\\n",
        ".rename(columns = {'region' : 'total_attacks'}).sort_values('total_attacks', ascending=False)[:10]\\\n",
        ".reset_index()"
      ],
      "metadata": {
        "id": "bkE8udocLJ4N"
      },
      "execution_count": null,
      "outputs": []
    },
    {
      "cell_type": "code",
      "source": [
        "#Horizontal bar graph to show the number of attacks\n",
        "plt.rcParams['figure.figsize']=(10,6)\n",
        "sns.set(font_scale=1.3)\n",
        "sns.set_style('ticks')\n",
        "ax=sns.barplot(x='total_attacks', y='region', data=region_wise_attacks, palette='rocket')\n",
        "ax.set_title(\"Region-Wise Terrorist Attack\",fontsize=20,fontweight='bold')\n",
        "ax.set_xlabel('Total Attacks',fontsize=15)\n",
        "ax.set_ylabel('Region',fontsize=15)"
      ],
      "metadata": {
        "id": "SdaYVSrrT4fn"
      },
      "execution_count": null,
      "outputs": []
    },
    {
      "cell_type": "markdown",
      "source": [
        "##### 1. Why did you pick the specific chart?"
      ],
      "metadata": {
        "id": "fge-S5ZAYoAp"
      }
    },
    {
      "cell_type": "markdown",
      "source": [
        "As it is Univariate analysis, the bar graph gives us good better view of data and the relationship between two variables"
      ],
      "metadata": {
        "id": "ZcJ6Cgt6ZhOp"
      }
    },
    {
      "cell_type": "markdown",
      "source": [
        "##### 2. What is/are the insight(s) found from the chart?"
      ],
      "metadata": {
        "id": "85gYPyotYoAp"
      }
    },
    {
      "cell_type": "markdown",
      "source": [
        "Most number of attacks are planed and executed in the Middle East and North Africa followed by the region South Asia and South America.\n",
        "East Asia is least attacked region in the time period 1970 to 2017."
      ],
      "metadata": {
        "id": "idLRaR0ds3dX"
      }
    },
    {
      "cell_type": "markdown",
      "source": [
        "##### 3. Will the gained insights help creating a positive business impact?\n",
        "Are there any insights that lead to negative growth? Justify with specific reason."
      ],
      "metadata": {
        "id": "RoGjAbkUYoAp"
      }
    },
    {
      "cell_type": "markdown",
      "source": [
        "Most agitated regions are quit venerable areas to attack on. Doing risk management and security training will helps us to mitigate the attacks or to prevent them."
      ],
      "metadata": {
        "id": "cLIdIsHZOuGj"
      }
    },
    {
      "cell_type": "markdown",
      "source": [
        "# **Chart - 3. What is the most frequent attack type?**"
      ],
      "metadata": {
        "id": "Ax8oTFB3y9nG"
      }
    },
    {
      "cell_type": "code",
      "source": [
        "#Counting the most frequent type of attack\n",
        "ax=plt.rcParams['figure.figsize'] = 10,6\n",
        "ax=sns.countplot(x='attack_type',data=df1,order = df1['attack_type'].value_counts().index, palette='rocket')\n",
        "ax.set_xlabel('Type of Attack',fontsize=15)\n",
        "plt.xticks(rotation = 75)\n",
        "ax.set_ylabel('Number of Attacks',fontsize=15)\n",
        "ax.set_title('Most Frequent Type of Attacks',fontsize=20, fontweight='bold');"
      ],
      "metadata": {
        "id": "FQEVF6uMzKs6"
      },
      "execution_count": null,
      "outputs": []
    },
    {
      "cell_type": "markdown",
      "source": [
        "##### 1. Why did you pick the specific chart?"
      ],
      "metadata": {
        "id": "Nko8IbWBYf9k"
      }
    },
    {
      "cell_type": "markdown",
      "source": [
        "As it is Univariate analysis, the bar graph gives us good better view of data and the relationship between two variables"
      ],
      "metadata": {
        "id": "ohSSaRioaDe-"
      }
    },
    {
      "cell_type": "markdown",
      "source": [
        "##### 2. What is/are the insight(s) found from the chart?"
      ],
      "metadata": {
        "id": "NUlHPUrTYf-o"
      }
    },
    {
      "cell_type": "markdown",
      "source": [
        "The most common attack type during this time period are bombing\\explosion, armed assault and assassination. Attempt to hijacking are least in numbers.    "
      ],
      "metadata": {
        "id": "LDg3h1yupLGe"
      }
    },
    {
      "cell_type": "markdown",
      "source": [
        "##### 3. Will the gained insights help creating a positive business impact?\n",
        "Are there any insights that lead to negative growth? Justify with specific reason."
      ],
      "metadata": {
        "id": "NmGayfZaYf-p"
      }
    },
    {
      "cell_type": "markdown",
      "source": [
        "# **Chart - 4. What type of weapon is most frequently used in the attacks?**"
      ],
      "metadata": {
        "id": "bZivfUzNvVbL"
      }
    },
    {
      "cell_type": "code",
      "source": [
        "#Removing missing vales from weapon columns\n",
        "df_weapon_detail = df1[['weapon_detail', 'region', 'id']].copy()\n",
        "df_weapon_detail.isnull().sum()\n",
        "nonnull_weapon_details = df_weapon_detail.dropna()\n",
        "nonnull_weapon_details\n"
      ],
      "metadata": {
        "id": "fUHx1_livE2_"
      },
      "execution_count": null,
      "outputs": []
    },
    {
      "cell_type": "code",
      "source": [
        "#Counting the most frequent weapon used in attacks\n",
        "ax=plt.rcParams['figure.figsize'] = 10,6\n",
        "ax=sns.countplot(x='weapon_detail',data=nonnull_weapon_details,order = nonnull_weapon_details['weapon_detail'].value_counts().index[:18], palette='rocket')\n",
        "ax.set_xlabel('Weapons',fontsize=15)\n",
        "plt.xticks(rotation = 75)\n",
        "ax.set_ylabel('Number of Attacks',fontsize=15)\n",
        "ax.set_title('Most Frequently Used Weapon in Attacks',fontsize=20, fontweight='bold');"
      ],
      "metadata": {
        "id": "_Zmhwkm3w1bi"
      },
      "execution_count": null,
      "outputs": []
    },
    {
      "cell_type": "markdown",
      "source": [
        "##### 1. Why did you pick the specific chart?"
      ],
      "metadata": {
        "id": "t6zPUJ9HXhSd"
      }
    },
    {
      "cell_type": "markdown",
      "source": [
        "As it is Univariate analysis, the bar graph gives us good better view of data and the relationship between two variables"
      ],
      "metadata": {
        "id": "5swWmlanaApY"
      }
    },
    {
      "cell_type": "markdown",
      "source": [
        "##### 2. What is/are the insight(s) found from the chart?"
      ],
      "metadata": {
        "id": "Dcu81zWZXhTB"
      }
    },
    {
      "cell_type": "markdown",
      "source": [
        "Explosives, automatic firearm, pistols, incendiary and firearms are mostly used weapons in these attacks"
      ],
      "metadata": {
        "id": "13ecZkCXqweW"
      }
    },
    {
      "cell_type": "markdown",
      "source": [
        "##### 3. Will the gained insights help creating a positive business impact?\n",
        "Are there any insights that lead to negative growth? Justify with specific reason."
      ],
      "metadata": {
        "id": "zyNKwEVOXhTB"
      }
    },
    {
      "cell_type": "markdown",
      "source": [
        "# **Chart - 5. What are the most common targets of attack ?**"
      ],
      "metadata": {
        "id": "9b54PaJk0Pbm"
      }
    },
    {
      "cell_type": "code",
      "source": [
        "#Counting the most frequent target in this attacks\n",
        "ax=plt.rcParams['figure.figsize'] = 10,6\n",
        "ax=sns.countplot(x='target_type',data=df1,order = df1['target_type'].value_counts().index, palette='rocket')\n",
        "ax.set_xlabel('Type of Targets',fontsize=15)\n",
        "plt.xticks(rotation = 75)\n",
        "ax.set_ylabel('Number of Attacks',fontsize=15)\n",
        "ax.set_title('Most Frequent Target of Terrorist',fontsize=20, fontweight='bold');"
      ],
      "metadata": {
        "id": "Y4BoGaEK0acw"
      },
      "execution_count": null,
      "outputs": []
    },
    {
      "cell_type": "markdown",
      "source": [
        "##### 1. Why did you pick the specific chart?"
      ],
      "metadata": {
        "id": "rZTIIeYaYtry"
      }
    },
    {
      "cell_type": "markdown",
      "source": [
        "As it is Univariate analysis, the bar graph gives us good better view of data and the relationship between two variables"
      ],
      "metadata": {
        "id": "aDTMu6RzaMSb"
      }
    },
    {
      "cell_type": "markdown",
      "source": [
        "##### 2. What is/are the insight(s) found from the chart?"
      ],
      "metadata": {
        "id": "KZpG3Bm_Yts_"
      }
    },
    {
      "cell_type": "markdown",
      "source": [
        " citizens and private properties are affected the most followed by the military and police. The least affected stakeholders are tourists, maritime, food and water supply, abortion related and others."
      ],
      "metadata": {
        "id": "4yM9MWjgoGdC"
      }
    },
    {
      "cell_type": "markdown",
      "source": [
        "##### 3. Will the gained insights help creating a positive business impact?\n",
        "Are there any insights that lead to negative growth? Justify with specific reason."
      ],
      "metadata": {
        "id": "NKTVlnHaYttA"
      }
    },
    {
      "cell_type": "markdown",
      "source": [
        "# **Chart - 6. Which terrorist group undertook the most terror attack in this period ?**"
      ],
      "metadata": {
        "id": "pX3UVQEg1BHy"
      }
    },
    {
      "cell_type": "code",
      "source": [
        "#Counting the most active terrorist groups in the attacks\n",
        "ax=plt.rcParams['figure.figsize'] = 14,12\n",
        "ax=sns.countplot(y='perpetrator',data=df1,order = df1['perpetrator'].value_counts().index[1:50], palette='rocket')\n",
        "ax.set_xlabel('Number of Attacks',fontsize=20)\n",
        "ax.set_ylabel('Terrorist Organisation',fontsize=24)\n",
        "ax.set_title('Most Active Terrorist Organisation',fontsize=20, fontweight='bold');"
      ],
      "metadata": {
        "id": "ZyZpPanE1Q8r"
      },
      "execution_count": null,
      "outputs": []
    },
    {
      "cell_type": "markdown",
      "source": [
        "##### 1. Why did you pick the specific chart?"
      ],
      "metadata": {
        "id": "gaCVd0wMY2z1"
      }
    },
    {
      "cell_type": "markdown",
      "source": [
        "As it is Univariate analysis, the bar graph gives us good better view of data and the relationship between two variables"
      ],
      "metadata": {
        "id": "RJacMFAyaPVm"
      }
    },
    {
      "cell_type": "markdown",
      "source": [
        "##### 2. What is/are the insight(s) found from the chart?"
      ],
      "metadata": {
        "id": "wN8YfDm9Y202"
      }
    },
    {
      "cell_type": "markdown",
      "source": [
        "Taliban plan and executes most of the attack across this time period and it is most active group followed by the groups ISIL, Shining path, FMLN, Al-Shabaab.\n",
        "The least active groups are lord's Resistance Army(LRA) followed by Death squad and Chechen Rebels."
      ],
      "metadata": {
        "id": "D4nHpalCmC-b"
      }
    },
    {
      "cell_type": "markdown",
      "source": [
        "##### 3. Will the gained insights help creating a positive business impact?\n",
        "Are there any insights that lead to negative growth? Justify with specific reason."
      ],
      "metadata": {
        "id": "PH5xirj3Y203"
      }
    },
    {
      "cell_type": "markdown",
      "source": [
        "# **Which countries are most attacked in this period of time from different regions?**"
      ],
      "metadata": {
        "id": "qLMi8OkvOvJB"
      }
    },
    {
      "cell_type": "code",
      "source": [
        "#Data wrangling\n",
        "# Checking for the top countries with the most number of attacks\n",
        "df_country = df1[['country', 'region', 'id']].copy()\n",
        "affected_countries = df_country.groupby(['region', 'country']).agg({'id': 'count'})\\\n",
        ".rename(columns = {'id': 'total_attack'}).sort_values('total_attack', ascending = False).reset_index()\n",
        "affected_countries[:20]"
      ],
      "metadata": {
        "id": "kUb49p78cNoB"
      },
      "execution_count": null,
      "outputs": []
    },
    {
      "cell_type": "markdown",
      "source": [
        "We did the data wrangling and visulisation on the world data above but if we go narrow down to the most affected countries, the Iraq and Pakistan are two most affected countries in the world in two different regions.\n",
        "The most affected country in Middle East and North Africa is Iraq and in South asia it is pakistan.\n",
        "Let us go deep down on each country (Iraq and Pakistan) one by one to find pattern if any."
      ],
      "metadata": {
        "id": "IpyQjnlTcNCW"
      }
    },
    {
      "cell_type": "code",
      "source": [
        "#Let us create two dataset, one with all records of country Iraq and one with all records of country Pakistan\n",
        "df_iraq = df1[df1['country'] == 'Iraq'].copy()\n",
        "df_pakistan = df1[df1['country'] == 'Pakistan'].copy()"
      ],
      "metadata": {
        "id": "qbx2iqUvdDg6"
      },
      "execution_count": null,
      "outputs": []
    },
    {
      "cell_type": "markdown",
      "source": [
        "# **Chart - 7. What are the top 5 targets in Iraq and Pakistan?**"
      ],
      "metadata": {
        "id": "Ur7NwmYZfIgs"
      }
    },
    {
      "cell_type": "code",
      "source": [
        "#Data wrangling\n",
        "#top 5 targets in Iraq\n",
        "target_in_iraq = df_iraq.groupby('target_type').agg({'target_type' : 'count'})\\\n",
        ".rename(columns = {'target_type' : 'total_attacks'}).sort_values('total_attacks',ascending = False).head(5).reset_index()\n",
        "\n",
        "#top 5 targets in Pakistan\n",
        "target_in_pakistan = df_pakistan.groupby('target_type').agg({'target_type' : 'count'})\\\n",
        ".rename(columns = {'target_type' : 'total_attacks'}).sort_values('total_attacks',ascending = False).head(5).reset_index()"
      ],
      "metadata": {
        "id": "QcKp1HpOeaix"
      },
      "execution_count": null,
      "outputs": []
    },
    {
      "cell_type": "code",
      "source": [
        "#Seaborn is used to illustrate a barplot in subplot type\n",
        "sns.set(font_scale=1.3)\n",
        "sns.set_style(\"ticks\")\n",
        "fig, axarr = plt.subplots(1,2, figsize=(25, 10))\n",
        "a = sns.barplot(data=target_in_iraq.head(5), x='target_type', y='total_attacks', ax=axarr[0], palette='rocket')\n",
        "a.set_title(\"Most Affected Targets in Iraq\",fontsize=20,fontweight='bold')\n",
        "a.set_xlabel('Target Type', fontsize=15)\n",
        "a.set_ylabel('Total Attacks',fontsize=15)\n",
        "b = sns.barplot(data=target_in_pakistan.head(5), x='target_type', y='total_attacks', ax=axarr[1], palette='rocket')\n",
        "b.set_title(\"Most affected Targets in Pakistan\",fontsize=20,fontweight='bold')\n",
        "b.set_xlabel('Target Type',fontsize=15)\n",
        "b.set_ylabel('Total Attacks',fontsize=15)\n"
      ],
      "metadata": {
        "id": "cU3Lm-t1pip-"
      },
      "execution_count": null,
      "outputs": []
    },
    {
      "cell_type": "markdown",
      "source": [
        "##### 1. Why did you pick the specific chart?"
      ],
      "metadata": {
        "id": "YsN8eK0wY6zx"
      }
    },
    {
      "cell_type": "markdown",
      "source": [
        "As it is Univariate analysis, the bar graph gives us good better view of data and the relationship between two variables also it helps in comparative analysis."
      ],
      "metadata": {
        "id": "Ti-adpJyaS6U"
      }
    },
    {
      "cell_type": "markdown",
      "source": [
        "##### 2. What is/are the insight(s) found from the chart?"
      ],
      "metadata": {
        "id": "RI295O3oY60z"
      }
    },
    {
      "cell_type": "markdown",
      "source": [
        "Both in Iraq and Pakistan citizens and private properties are affected the most followed by the police and military."
      ],
      "metadata": {
        "id": "Lt_UOkwLllHk"
      }
    },
    {
      "cell_type": "markdown",
      "source": [
        "##### 3. Will the gained insights help creating a positive business impact?\n",
        "Are there any insights that lead to negative growth? Justify with specific reason."
      ],
      "metadata": {
        "id": "WJ6BPGdiY600"
      }
    },
    {
      "cell_type": "markdown",
      "source": [
        "# **Chart - 8. Which type of attack causes more damage in terms of fatalities and wounded people in Iraq and Pakistan?**  "
      ],
      "metadata": {
        "id": "59QTk5LfKAnU"
      }
    },
    {
      "cell_type": "code",
      "source": [
        "#Drop the rows from the dataset which has the null values in it.\n",
        "df_iraq.head()\n",
        "null_iraq = df_iraq.isnull().sum()\n",
        "non_null_iraq = df_iraq.dropna()\n",
        "\n",
        "null_pakistan = df_pakistan.isnull().sum()\n",
        "non_null_pakistan = df_pakistan.dropna()\n",
        "non_null_pakistan.isnull().sum()"
      ],
      "metadata": {
        "id": "UlLTcMNPKkix"
      },
      "execution_count": null,
      "outputs": []
    },
    {
      "cell_type": "code",
      "source": [
        "#Consider the fatalities and wounded as a overall damaged.\n",
        "non_null_iraq['damage'] = non_null_iraq['fatalities'] + non_null_iraq['wounded']\n",
        "non_null_pakistan['damage'] = non_null_pakistan['fatalities'] + non_null_pakistan['wounded']\n"
      ],
      "metadata": {
        "id": "zNtptnTtVyy2"
      },
      "execution_count": null,
      "outputs": []
    },
    {
      "cell_type": "code",
      "source": [
        "#Damage in Iraq\n",
        "col_to_work = ['id', 'attack_type', 'damage']\n",
        "attack_damage_iraq = non_null_iraq.groupby('attack_type').agg({'damage':'sum','id': 'count'})\\\n",
        ".rename(columns = {'id': 'attack_count'}).sort_values('damage', ascending = False).reset_index()\n",
        "attack_damage_iraq\n",
        "\n",
        "#Damage in Pakistan\n",
        "attack_damage_pakistan = non_null_pakistan.groupby('attack_type').agg({'damage':'sum','id': 'count'})\\\n",
        ".rename(columns = {'id': 'attack_count'}).sort_values('damage', ascending = False).reset_index()\n",
        "attack_damage_pakistan"
      ],
      "metadata": {
        "id": "BGykvvDlTpkq"
      },
      "execution_count": null,
      "outputs": []
    },
    {
      "cell_type": "code",
      "source": [
        "#Chart - 8(a)\n",
        "#Plotted the pie chart to show the distribution of attack type in Iraq.\n",
        "pie_labels = ['Bombing/Explosion', 'Armed Assault', 'Hostage kidnapping', 'Unknown','Assassination',]\n",
        "explode=[0.05,0,0,0,0]\n",
        "plt.rcParams['figure.figsize']=(12,7)\n",
        "plt.pie(attack_damage_iraq[\"attack_count\"].head(5),labels=pie_labels,explode= explode, shadow=True, autopct='%1.1f%%')\n",
        "plt.title('Total attacks in Iraq')\n",
        "plt.axis('equal')\n",
        "plt.show()"
      ],
      "metadata": {
        "id": "E14d__iNjfy0"
      },
      "execution_count": null,
      "outputs": []
    },
    {
      "cell_type": "markdown",
      "source": [
        "##### 1. Why did you pick the specific chart?"
      ],
      "metadata": {
        "id": "aW3o13iCdDRo"
      }
    },
    {
      "cell_type": "markdown",
      "source": [
        " Pie chart gives us perfect percentage contribution different attack types in Iraq."
      ],
      "metadata": {
        "id": "vO8UILfmdDSH"
      }
    },
    {
      "cell_type": "markdown",
      "source": [
        "##### 2. What is/are the insight(s) found from the chart?"
      ],
      "metadata": {
        "id": "5dFMKACFdDSI"
      }
    },
    {
      "cell_type": "markdown",
      "source": [
        "##### 3. Will the gained insights help creating a positive business impact?\n",
        "Are there any insights that lead to negative growth? Justify with specific reason."
      ],
      "metadata": {
        "id": "wk48vSHwdDSJ"
      }
    },
    {
      "cell_type": "code",
      "source": [
        "#Chart - 8(b)\n",
        "#Plotted the pie chart to show the distribution of damage due to different attacks in Iraq.\n",
        "pie_labels = ['Bombing/Explosion', 'Armed Assault', 'Hostage kidnapping', 'Unknown','Assassination',]\n",
        "explode=[0.05,0,0,0,0]\n",
        "plt.rcParams['figure.figsize']=(12,7)\n",
        "plt.pie(attack_damage_iraq[\"damage\"].head(5),labels=pie_labels,explode= explode, shadow=True, autopct='%1.1f%%')\n",
        "plt.title('Total damage in Iraq due diffrent types of attacks')\n",
        "plt.axis('equal')\n",
        "plt.show()\n"
      ],
      "metadata": {
        "id": "eEZPNd14aIco"
      },
      "execution_count": null,
      "outputs": []
    },
    {
      "cell_type": "markdown",
      "source": [
        "##### 1. Why did you pick the specific chart?"
      ],
      "metadata": {
        "id": "Xiq86qaOdbqP"
      }
    },
    {
      "cell_type": "markdown",
      "source": [
        " Pie chart gives us perfect percentage distribution of damage due to different attack types in Iraq."
      ],
      "metadata": {
        "id": "eNrw7UnEdbql"
      }
    },
    {
      "cell_type": "markdown",
      "source": [
        "##### 2. What is/are the insight(s) found from the chart?"
      ],
      "metadata": {
        "id": "5cCb8op5dbqm"
      }
    },
    {
      "cell_type": "markdown",
      "source": [
        "In Iraq bombing/explosion attacks are 82% which causes about 92% damage of total damage followed by the armed assaults which is 10.6% causing 4% damage of total damage."
      ],
      "metadata": {
        "id": "9Z1KKEU0k7lG"
      }
    },
    {
      "cell_type": "markdown",
      "source": [
        "##### 3. Will the gained insights help creating a positive business impact?\n",
        "Are there any insights that lead to negative growth? Justify with specific reason."
      ],
      "metadata": {
        "id": "_4cV37sQdbqm"
      }
    },
    {
      "cell_type": "code",
      "source": [
        "#Chart - 8(c)\n",
        "#Plotted the pie chart to show the distribution of attack type in Pakistan.\n",
        "pie_labels = ['Bombing/Explosion', 'Armed Assault','Assassination', 'Hostage kidnapping','Unknown']\n",
        "explode=[0.05,0,0,0,0]\n",
        "plt.rcParams['figure.figsize']=(12,7)\n",
        "plt.pie(attack_damage_pakistan[\"attack_count\"].head(5),labels=pie_labels,explode= explode, shadow=True, autopct='%1.1f%%')\n",
        "plt.title('Total attacks in Pakistan')\n",
        "plt.axis('equal')\n",
        "plt.show()"
      ],
      "metadata": {
        "id": "QwYRxr14l2HM"
      },
      "execution_count": null,
      "outputs": []
    },
    {
      "cell_type": "code",
      "source": [
        "#Chart - 8(d)\n",
        "#Plotted the pie chart to show the distribution of damage due to different attacks in Pakistan.\n",
        "pie_labels = ['Bombing/Explosion', 'Armed Assault','Assassination', 'Hostage kidnapping','Unknown']\n",
        "explode=[0.05,0,0,0,0]\n",
        "plt.rcParams['figure.figsize']=(12,7)\n",
        "plt.pie(attack_damage_pakistan[\"damage\"].head(5),labels=pie_labels,explode= explode, shadow=True, autopct='%1.1f%%')\n",
        "plt.title('Total damage in Pakistan due diffrent types of attacks')\n",
        "plt.axis('equal')\n",
        "plt.show()"
      ],
      "metadata": {
        "id": "nd5DE7r2m0FE"
      },
      "execution_count": null,
      "outputs": []
    },
    {
      "cell_type": "markdown",
      "source": [
        "##### 1. Why did you pick the specific chart?"
      ],
      "metadata": {
        "id": "IGKxiHf3ZHZH"
      }
    },
    {
      "cell_type": "markdown",
      "source": [
        "  Pie chart gives us perfect percentage distribution of damage due to different attack types in Pakistan."
      ],
      "metadata": {
        "id": "vPnnoYJda6W2"
      }
    },
    {
      "cell_type": "markdown",
      "source": [
        "##### 2. What is/are the insight(s) found from the chart?"
      ],
      "metadata": {
        "id": "STYgWrC0ZHaL"
      }
    },
    {
      "cell_type": "markdown",
      "source": [
        "In Pakistan bombing/explosion attacks are 74% which causes about 82% damage of total damage followed by the armed assaults which is 17% causing 11.3% damage of total damage."
      ],
      "metadata": {
        "id": "qRLB8qBukyn1"
      }
    },
    {
      "cell_type": "markdown",
      "source": [
        "##### 3. Will the gained insights help creating a positive business impact?\n",
        "Are there any insights that lead to negative growth? Justify with specific reason."
      ],
      "metadata": {
        "id": "ZxzeSeHmZHaM"
      }
    },
    {
      "cell_type": "markdown",
      "source": [
        "# **Chart - 9. What are the top 5 terrorist groups invovled in attacks in these countries?**"
      ],
      "metadata": {
        "id": "Ld1XozffkufW"
      }
    },
    {
      "cell_type": "code",
      "source": [
        "#Data Wrangling\n",
        "#Most active terrorist group in Iraq\n",
        "most_active_known_perpetrator_iraq = df_iraq.groupby('perpetrator').agg({'id': 'count'})\\\n",
        ".rename(columns = {'id':'No_of_attacks'}).sort_values('No_of_attacks', ascending = False)[1:7].reset_index()\n",
        "most_active_known_perpetrator_iraq.head(5)\n",
        "\n",
        "#Most active terrorist group in Pakistan\n",
        "most_active_known_perpetrator_pakistan = df_pakistan.groupby('perpetrator').agg({'id': 'count'})\\\n",
        ".rename(columns = {'id':'No_of_attacks'}).sort_values('No_of_attacks', ascending = False)[1:7].reset_index()\n",
        "most_active_known_perpetrator_pakistan.head(6)"
      ],
      "metadata": {
        "id": "5AsIE0bdmHKG"
      },
      "execution_count": null,
      "outputs": []
    },
    {
      "cell_type": "code",
      "source": [
        "#Chart - 9(a)\n",
        "#Barpolt to show the most active terrorist group in Iraq\n",
        "ax=plt.rcParams['figure.figsize'] = 10, 5\n",
        "most_active_known_perpetrator_iraq.head(5).plot(zorder=5,color='C2', marker='o')\n",
        "ax=sns.barplot(data= most_active_known_perpetrator_iraq.head(5), x='perpetrator', y = 'No_of_attacks', palette='rocket')\n",
        "ax.set_xlabel('Terrorist groups',fontsize=18)\n",
        "plt.xticks(rotation = 75)\n",
        "ax.set_ylabel('Number of Terrorist Attacks',fontsize=18)\n",
        "ax.set_title('Top terrorist groups active in Iraq',fontsize=20);"
      ],
      "metadata": {
        "id": "oIYNevFwrcOJ"
      },
      "execution_count": null,
      "outputs": []
    },
    {
      "cell_type": "code",
      "source": [
        "#Chart - 9(b)\n",
        "#Barpolt to show the most active terrorist group in Pakistan.\n",
        "ax=plt.rcParams['figure.figsize'] = 10,5\n",
        "most_active_known_perpetrator_pakistan.head(5).plot(zorder=5,color='C2', marker='o')\n",
        "ax=sns.barplot(data= most_active_known_perpetrator_pakistan.head(5), x='perpetrator', y = 'No_of_attacks', palette='rocket')\n",
        "ax.set_xlabel('Terrorist groups',fontsize=18)\n",
        "plt.xticks(rotation = 75)\n",
        "ax.set_ylabel('Number of Terrorist Attacks',fontsize=18)\n",
        "ax.set_title('Top terrorist groups active in Pakistan',fontsize=20);"
      ],
      "metadata": {
        "id": "by-T5QDiov7p"
      },
      "execution_count": null,
      "outputs": []
    },
    {
      "cell_type": "markdown",
      "source": [
        "##### 1. Why did you pick the specific chart?"
      ],
      "metadata": {
        "id": "oWlYQrElZM8W"
      }
    },
    {
      "cell_type": "markdown",
      "source": [
        "As it is Univariate analysis, the bar graph gives us better view of data and the relationship between two variables also it helps in comparative analysis."
      ],
      "metadata": {
        "id": "OPpIaQl3cnrY"
      }
    },
    {
      "cell_type": "markdown",
      "source": [
        "##### 2. What is/are the insight(s) found from the chart?"
      ],
      "metadata": {
        "id": "Anz8-Y5MZM9D"
      }
    },
    {
      "cell_type": "markdown",
      "source": [
        "ISIL which is on 2nd position in most number of attacks in world and Al-Qaida are most active terrorist group in Iraq while in Pakistan Tehrik-i-Taliban and Baloch Republican Army are most active ones."
      ],
      "metadata": {
        "id": "matwKjA3jzU7"
      }
    },
    {
      "cell_type": "markdown",
      "source": [
        "##### 3. Will the gained insights help creating a positive business impact?\n",
        "Are there any insights that lead to negative growth? Justify with specific reason."
      ],
      "metadata": {
        "id": "cX0uSGj9ZM9E"
      }
    },
    {
      "cell_type": "markdown",
      "source": [
        "# **Chart - 10. What are the top 5 most attacked cities in Iraq and Pakistan?**"
      ],
      "metadata": {
        "id": "8bV1Lk6T9vxV"
      }
    },
    {
      "cell_type": "code",
      "source": [
        "#Data Wrangling\n",
        "#Most attacked cities in Iraq\n",
        "df_city1 = non_null_iraq[non_null_iraq['city'] != 'Unknown']\n",
        "most_attacked_city_iraq = df_city1['city'].value_counts().head(10).reset_index().rename(columns= {'index':'city', 'city':'No_of_Attacks'})\n",
        "most_attacked_city_iraq\n",
        "#Most attacked cities in Pakistan\n",
        "df_city2 = non_null_pakistan[non_null_pakistan['city'] != 'Unknown']\n",
        "most_attacked_city_pakistan = df_city2['city'].value_counts().head(10).reset_index().rename(columns= {'index':'city', 'city':'No_of_Attacks'})\n",
        "most_attacked_city_pakistan\n"
      ],
      "metadata": {
        "id": "5FAyz_PCuzrh"
      },
      "execution_count": null,
      "outputs": []
    },
    {
      "cell_type": "code",
      "source": [
        "#Chart - 10(a)\n",
        "#Barplot for most affected cities in Iraq\n",
        "plt.rcParams[\"figure.figsize\"] = (10, 5)\n",
        "most_attacked_city_iraq.plot(zorder=5,color='b', marker='o')\n",
        "ax=sns.barplot(x='city',y='No_of_Attacks',data=most_attacked_city_iraq.head(5), palette='rocket')\n",
        "ax.set_xlabel('City',fontsize=15)\n",
        "plt.xticks(rotation = 75)\n",
        "ax.set_ylabel('Number of Attacks',fontsize=15)\n",
        "ax.set_title('Most Attacked Cities in Iraq',fontsize=20);\n"
      ],
      "metadata": {
        "id": "IszgA9ei-eO0"
      },
      "execution_count": null,
      "outputs": []
    },
    {
      "cell_type": "code",
      "source": [
        "#Chart - 10(b)\n",
        "#Barplot for most affected cities in Pakistan\n",
        "plt.rcParams[\"figure.figsize\"] = (10, 5)\n",
        "most_attacked_city_pakistan.plot(zorder=5,color='b', marker='o')\n",
        "ax=sns.barplot(x='city',y='No_of_Attacks',data=most_attacked_city_pakistan.head(5), palette='rocket')\n",
        "ax.set_xlabel('City',fontsize=15)\n",
        "plt.xticks(rotation = 75)\n",
        "ax.set_ylabel('Number of Attacks',fontsize=15)\n",
        "ax.set_title('Most Attacked Cities in Pakistan',fontsize=20);"
      ],
      "metadata": {
        "id": "owhz5gox9NR7"
      },
      "execution_count": null,
      "outputs": []
    },
    {
      "cell_type": "markdown",
      "source": [
        "##### 1. Why did you pick the specific chart?"
      ],
      "metadata": {
        "id": "E2nBOf4AZQeg"
      }
    },
    {
      "cell_type": "markdown",
      "source": [
        "As it is Univariate analysis, the bar graph gives us better view of data and the relationship between two variables also it helps in comparative analysis."
      ],
      "metadata": {
        "id": "myxsC1vveOkw"
      }
    },
    {
      "cell_type": "markdown",
      "source": [
        "In Iraq, Bagdad is highly targeted city followed by Mosul and Kirkuk. Karachi is the most attacked city in pakistan followed by peshawar and Quetta."
      ],
      "metadata": {
        "id": "C5A4AuuijIua"
      }
    },
    {
      "cell_type": "markdown",
      "source": [
        "##### 2. What is/are the insight(s) found from the chart?"
      ],
      "metadata": {
        "id": "bbPvlzMaZQfC"
      }
    },
    {
      "cell_type": "markdown",
      "source": [
        "##### 3. Will the gained insights help creating a positive business impact?\n",
        "Are there any insights that lead to negative growth? Justify with specific reason."
      ],
      "metadata": {
        "id": "dyOv1a24ZQfD"
      }
    },
    {
      "cell_type": "markdown",
      "source": [
        "**In Pakistan the Karachi city was attacked the most followed by the Peshawar, Quetta, Mohmand district and Landi Kotal respectively.**"
      ],
      "metadata": {
        "id": "A1YT-1x6-wzD"
      }
    },
    {
      "cell_type": "markdown",
      "source": [
        "# **Chart - 11. Does a clamied attacks causes more casualities than unclamied attacks in Iraq and Pakistan?**"
      ],
      "metadata": {
        "id": "V-jjMrC1bmSX"
      }
    },
    {
      "cell_type": "code",
      "source": [
        "#Data Wrangling\n",
        "#Stored the data of claimed and unclaimed attacks in two different variables for Iraq\n",
        "claimed_attacks_iraq = df_city1[df_city1['claimed'] == 1]\n",
        "unclaimed_attacks_iraq = df_city1[df_city1['claimed'] == 0]\n",
        "#Calculating the number of claimed attacks and falalities in different cities and the casulties per attack ratio to compare with unclaimed attacks\n",
        "claimed_attacked_city1 = claimed_attacks_iraq.groupby('city').agg({'claimed':'count','fatalities':'sum' }).sort_values('claimed', ascending = False).head(50).reset_index()\n",
        "claimed_attacked_city1['casulties_per_attack'] = claimed_attacked_city1['fatalities']/ claimed_attacked_city1['claimed']\n",
        "claimed_attacked_city1\n",
        "#Calculating the number of unclaimed attacks and falalities in different cities and the casulties per attack ratio to compare with claimed attacks\n",
        "unclaimed_attacked_city1 = unclaimed_attacks_iraq.groupby('city').agg({'claimed':'count','fatalities':'sum' }).rename(columns= {'claimed': 'unclaimed'}).sort_values('unclaimed', ascending = False).reset_index()\n",
        "unclaimed_attacked_city1['casulties_per_attack'] = unclaimed_attacked_city1['fatalities']/ unclaimed_attacked_city1['unclaimed']\n",
        "unclaimed_attacked_city1\n"
      ],
      "metadata": {
        "id": "cF8GboYZ_99p"
      },
      "execution_count": null,
      "outputs": []
    },
    {
      "cell_type": "code",
      "source": [
        "#Data Wrangling\n",
        "#Stored the data of claimed and unclaimed attacks in two different variables for Pakistan\n",
        "claimed_attacks_pakistan = df_city2[df_city2['claimed'] == 1]\n",
        "unclaimed_attacks_pakistan = df_city2[df_city2['claimed'] == 0]\n",
        "#Calculating the number of claimed attacks and falalities in different cities and the casulties per attack ratio to compare with unclaimed attacks\n",
        "claimed_attacked_city2 = claimed_attacks_pakistan.groupby('city').agg({'claimed':'count','fatalities':'sum' }).sort_values('claimed', ascending = False).head(50).reset_index()\n",
        "claimed_attacked_city2['casulties_per_attack'] = claimed_attacked_city2['fatalities']/claimed_attacked_city2['claimed']\n",
        "claimed_attacked_city2\n",
        "#Calculating the number of unclaimed attacks and falalities in different cities and the casulties per attack ratio to compare with claimed attacks\n",
        "unclaimed_attacked_city2 = unclaimed_attacks_pakistan.groupby('city').agg({'claimed':'count','fatalities':'sum' }).rename(columns= {'claimed': 'unclaimed'}).sort_values('unclaimed', ascending = False).reset_index()\n",
        "unclaimed_attacked_city2['casulties_per_attack'] = unclaimed_attacked_city2['fatalities']/unclaimed_attacked_city2['unclaimed']\n",
        "unclaimed_attacked_city2"
      ],
      "metadata": {
        "id": "Cb0JfSdC17Nv"
      },
      "execution_count": null,
      "outputs": []
    },
    {
      "cell_type": "code",
      "source": [
        "#Chart - 11(a)\n",
        "#Scatter plot to show the tri-varient (i.e. Cities vs Casulties per attack(ratio) vs Number of attacks) relation in top 10 cities in Iraq\n",
        "plt.rcParams[\"figure.figsize\"] = (10, 6)\n",
        "plt.scatter(y= unclaimed_attacked_city1['casulties_per_attack'].head(10), x= unclaimed_attacked_city1['city'].head(10),s=100, c= unclaimed_attacked_city1['unclaimed'].head(10), cmap=plt.cm.get_cmap('PiYG',15))\n",
        "plt.xlabel('Cities')\n",
        "plt.ylabel('Casulties per attack')\n",
        "plt.title('City-wise casualties in unclaimed attacks in Iraq')\n",
        "plt.colorbar(orientation= 'horizontal', label= 'Number of attacks', extend = 'both')\n",
        "plt.show()"
      ],
      "metadata": {
        "id": "HQvkFLlb7ztE"
      },
      "execution_count": null,
      "outputs": []
    },
    {
      "cell_type": "markdown",
      "source": [
        "##### 1. Why did you pick the specific chart?"
      ],
      "metadata": {
        "id": "JUlR8mUEeqKr"
      }
    },
    {
      "cell_type": "markdown",
      "source": [
        "As it is trivarient analysis i.e. three variables are involved, scatter plot shows the clear picture of tends the data follows."
      ],
      "metadata": {
        "id": "JAU7YmEUfQJi"
      }
    },
    {
      "cell_type": "markdown",
      "source": [
        "##### 2. What is/are the insight(s) found from the chart?"
      ],
      "metadata": {
        "id": "0-7f1dbVeqLK"
      }
    },
    {
      "cell_type": "markdown",
      "source": [
        "Scatter plot shows the tri-varient (i.e. Cities vs Casulties per attack(ratio) vs Number of attacks) relation in top 10 cities in Iraq. As the attacks here are unclaimed ones the casulties per attack ratio varies mostly between 1.5 to 3 in different cities."
      ],
      "metadata": {
        "id": "2MYxgM0lg7K7"
      }
    },
    {
      "cell_type": "markdown",
      "source": [
        "##### 3. Will the gained insights help creating a positive business impact?\n",
        "Are there any insights that lead to negative growth? Justify with specific reason."
      ],
      "metadata": {
        "id": "8OqgpHVreqLL"
      }
    },
    {
      "cell_type": "code",
      "source": [
        "#Chart - 11(b)\n",
        "#Scatter plot to show the tri-varient (i.e. Cities vs Casulties per attack(ratio) vs Number of attacks) relation in top 10 cities in Iraq.\n",
        "plt.rcParams[\"figure.figsize\"] = (10, 6)\n",
        "plt.scatter(y=claimed_attacked_city1['casulties_per_attack'].head(10), x=claimed_attacked_city1['city'].head(10),s=100, c=claimed_attacked_city1['claimed'].head(10), cmap=plt.cm.get_cmap('PiYG',15))\n",
        "plt.xlabel('Cities')\n",
        "plt.ylabel('Casulties per attack')\n",
        "plt.title('City-wise casualties in claimed attacks in Iraq')\n",
        "plt.colorbar(orientation= 'horizontal', label= 'Number of attacks', extend = 'both')\n",
        "plt.show()"
      ],
      "metadata": {
        "id": "bQ9Spxuv4b4u"
      },
      "execution_count": null,
      "outputs": []
    },
    {
      "cell_type": "markdown",
      "source": [
        "##### 1. Why did you pick the specific chart?"
      ],
      "metadata": {
        "id": "yiX8DdtKejd9"
      }
    },
    {
      "cell_type": "markdown",
      "source": [
        "As it is trivarient analysis i.e. three variables are involved, scatter plot shows the clear picture of tends the data follows."
      ],
      "metadata": {
        "id": "HbeY9XaZf0Ob"
      }
    },
    {
      "cell_type": "markdown",
      "source": [
        "##### 2. What is/are the insight(s) found from the chart?"
      ],
      "metadata": {
        "id": "wT31TODdejfJ"
      }
    },
    {
      "cell_type": "markdown",
      "source": [
        "Scatter plot shows the tri-varient (i.e. Cities vs Casulties per attack(ratio) vs Number of attacks) relation in top 10 cities in Iraq. As the attacks here are claimed ones the casulties per attack ratio varies mostly between 4 to 8 in different cities.\n",
        "From above graph we can conclude that the attacks which causes more damage are mostly clamied attacks."
      ],
      "metadata": {
        "id": "Ba0CG5A_gBtX"
      }
    },
    {
      "cell_type": "markdown",
      "source": [
        "##### 3. Will the gained insights help creating a positive business impact?\n"
      ],
      "metadata": {
        "id": "rUPW5TEfejfK"
      }
    },
    {
      "cell_type": "markdown",
      "source": [
        "**In Iraq the top attacked cities are Baghdad with most number of attacks followed by the Mosul, Kirkuk, Baqubah abd Fallujah respectively.**"
      ],
      "metadata": {
        "id": "Y-xbgCI5-K2k"
      }
    },
    {
      "cell_type": "code",
      "source": [
        "#Chart - 11(c)\n",
        "#Scatter plot to show the tri-varient (i.e. Cities vs Casulties per attack(ratio) vs Number of attacks) relation in top 10 attacked cities in Pakistan\n",
        "plt.scatter(y=unclaimed_attacked_city2['casulties_per_attack'].head(10), x=unclaimed_attacked_city2['city'].head(10),s=100, c=unclaimed_attacked_city2['unclaimed'].head(10), cmap=plt.cm.get_cmap('PiYG',15))\n",
        "plt.xlabel('Cities')\n",
        "plt.ylabel('Casulties per attack')\n",
        "plt.title('City-wise casualties in unclaimed attacks in Pakistan')\n",
        "plt.colorbar(orientation= 'horizontal', label= 'Number of attacks', extend = 'both')\n",
        "plt.show()"
      ],
      "metadata": {
        "id": "lihSlJGL72pL"
      },
      "execution_count": null,
      "outputs": []
    },
    {
      "cell_type": "markdown",
      "source": [
        "##### 1. Why did you pick the specific chart?"
      ],
      "metadata": {
        "id": "au9v-ODMiGqA"
      }
    },
    {
      "cell_type": "markdown",
      "source": [
        "As it is trivarient analysis i.e. three variables are involved, scatter plot shows the clear picture of tends the data follows."
      ],
      "metadata": {
        "id": "SBS51kjhiGqj"
      }
    },
    {
      "cell_type": "markdown",
      "source": [
        "##### 2. What is/are the insight(s) found from the chart?"
      ],
      "metadata": {
        "id": "OQbf9aPqiGqk"
      }
    },
    {
      "cell_type": "markdown",
      "source": [
        "Scatter plot shows the tri-varient (i.e. Cities vs Casulties per attack(ratio) vs Number of attacks) relation in top 10 cities in Pakistan. As the attacks here are unclaimed ones the casulties per attack ratio varies mostly between 0.5 to 2 in different cities."
      ],
      "metadata": {
        "id": "-N2Oy1rQiGql"
      }
    },
    {
      "cell_type": "markdown",
      "source": [
        "##### 3. Will the gained insights help creating a positive business impact?\n",
        "Are there any insights that lead to negative growth? Justify with specific reason."
      ],
      "metadata": {
        "id": "T9n2jXqyiGql"
      }
    },
    {
      "cell_type": "code",
      "source": [
        "#Chart - 11(d)\n",
        "#Scatter plot to show the tri-varient (i.e. Cities vs Casulties per attack(ratio) vs Number of attacks) relation in top 10 cities in pakistan\n",
        "plt.rcParams[\"figure.figsize\"] = (10, 6)\n",
        "plt.scatter(y=claimed_attacked_city2['casulties_per_attack'].head(10), x=claimed_attacked_city2['city'].head(10),s=100, c=claimed_attacked_city2['claimed'].head(10), cmap=plt.cm.get_cmap('PiYG',15))\n",
        "plt.xlabel('Cities')\n",
        "plt.ylabel('Casulties per attack')\n",
        "plt.title('City-wise casualties in claimed attacks in Pakistan')\n",
        "plt.colorbar(orientation= 'horizontal', label= 'Number of attacks', extend = 'both')\n",
        "plt.show()"
      ],
      "metadata": {
        "id": "9zoho7VuISmm"
      },
      "execution_count": null,
      "outputs": []
    },
    {
      "cell_type": "markdown",
      "source": [
        "##### 1. Why did you pick the specific chart?"
      ],
      "metadata": {
        "id": "YoPyuH2ZZTxH"
      }
    },
    {
      "cell_type": "markdown",
      "source": [
        "As it is trivarient analysis i.e. three variables are involved, scatter plot shows the clear picture of tends the data follows."
      ],
      "metadata": {
        "id": "vwk1apzLf25K"
      }
    },
    {
      "cell_type": "markdown",
      "source": [
        "##### 2. What is/are the insight(s) found from the chart?"
      ],
      "metadata": {
        "id": "rvnLPyZ4ZTyO"
      }
    },
    {
      "cell_type": "markdown",
      "source": [
        "Scatter plot shows the tri-varient (i.e. Cities vs Casulties per attack(ratio) vs Number of attacks) relation in top 10 cities in Pakistan. As the attacks here are claimed ones the casulties per attack ratio varies mostly between 4 to 10 in different cities.\n",
        "From above graph we can conclude that the attacks which causes more damage are mostly clamied attacks."
      ],
      "metadata": {
        "id": "SOKFI_94ih59"
      }
    },
    {
      "cell_type": "markdown",
      "source": [
        "##### 3. Will the gained insights help creating a positive business impact?\n",
        "Are there any insights that lead to negative growth? Justify with specific reason."
      ],
      "metadata": {
        "id": "TopXyBiZZTyP"
      }
    },
    {
      "cell_type": "markdown",
      "source": [
        "## **5. Solution to Business Objective**"
      ],
      "metadata": {
        "id": "JcMwzZxoAimU"
      }
    },
    {
      "cell_type": "markdown",
      "source": [
        "#### What do you suggest the client to achieve Business Objective ?\n",
        "\n",
        "\n",
        "**1.   The Middle East and North Africa along with South Asia comprise of most attacked regions. There has been a recent spike in the number of attacks after the year 2000 in these countries. While East Asia is the least attacked region.**\n",
        "**2.   The trends of terrorist activities point that**\n",
        "\n",
        "\n",
        "*   Bombing\\explosion is the most commonly used type of attack\n",
        "\n",
        "*   The reduced hijacking incidents point to success of security agencies in mitigating such attempts\n",
        "\n",
        "\n",
        "*   Explosives and automatic firearms are the most commonly used type of weapon\n",
        "*   The most common targets of these attacks are citizens and private property followed by military and police establishments\n",
        "\n",
        "\n",
        "*   Taliban has emerged as the most active terror group globally followed by ISIL.\n",
        "\n",
        "\n",
        "**3.   In the Middle East and the North African region region Iraq while in the South Asian region Pakistan are the most terror-affected nation.**\n",
        "\n",
        "*   ISIL, globally second most dreaded terror group and Al-Quaieda are the most active terror group in Iraq while Tehreik-e-Taliban and Baloch republican army are the most active terror group in Pakistan.\n",
        "\n",
        "\n",
        "*   In both Iraq and Pakistan, the global trends of type of attack, type of weapon and most common targets of attacks are followed, pointing to a similar trend.\n",
        "\n",
        "*   In both Iraq and Pakistan, bombing and explosion attacks cause the major damage followed by armed assault.\n",
        "\n",
        "\n",
        "*   In Iraq, Bagdad is a highly targeted city followed by Mosul and Kirkuk. Karachi is the most attacked city in Pakistan followed by Peshawar and Quetta.\n",
        "*   In both Iraq and Pakistan, the claimed attack causes more damage(they have a higher casualty per attack ratio) than the unclaimed attack.\n",
        "\n",
        "\n",
        "\n",
        "\n",
        "\n",
        "\n",
        "\n",
        "\n",
        "\n",
        "\n",
        "\n",
        "\n"
      ],
      "metadata": {
        "id": "8G2x9gOozGDZ"
      }
    },
    {
      "cell_type": "markdown",
      "source": [
        "# **Conclusion**"
      ],
      "metadata": {
        "id": "gCX9965dhzqZ"
      }
    },
    {
      "cell_type": "markdown",
      "source": [
        "**From the analysis of the given data we can draw the following conclusions:**\n",
        "\n",
        "\n",
        "*   The Middle East and North Africa and South Asia are severely affected by terrorism. Middle East is most attacked in the year 2017\n",
        "*   East Asia is least attacked in the given time frame.\n",
        "\n",
        "\n",
        "*   The trends point to a recent spike in terror activities after 2000 in North Africa , Middle East and South Asia.\n",
        "\n",
        "*   Iran in Middle East and Pakistan in South Asia are worst affected countries\n",
        "\n",
        "\n",
        "*   The prime target of the terror groups are private properties followed by police and military establishments.\n",
        "*   Bombing is the most common type of attack.\n",
        "\n",
        "\n",
        "*   Taliban has emerged as the largest terror perpetrator in the given time frame\n",
        "*   In the Middle East region,  Baghdad city in Iran and In South Asia, Peshawar city in Pakistan are the most attacked cities.\n",
        "\n",
        "\n",
        "*   The global trends in type of weapon, nature of attack and target of attack are very much similar in above mentioned  findings in Iran and Pakistan.\n",
        "\n",
        "*  The claimed attack has more casualties per attack ratio than the unclaimed attack and this trend is similar in both Iran and Pakistan.\n",
        "\n",
        "\n",
        "\n",
        "\n",
        "\n",
        "\n",
        "\n",
        "\n",
        "\n",
        "\n",
        "\n"
      ],
      "metadata": {
        "id": "O9ajiqVxXpui"
      }
    }
  ]
}